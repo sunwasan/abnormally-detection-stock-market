{
 "cells": [
  {
   "cell_type": "markdown",
   "id": "9e9ead2e",
   "metadata": {},
   "source": [
    "# Variational Autoencoder (VAE) for Financial Anomaly Detection\n",
    "\n",
    "This report presents an anomaly detection system for financial time series data using a Variational Autoencoder (VAE) with LSTM architecture. The model is trained on daily trading data from the CPALL stock and evaluated for its ability to identify anomalous trading patterns.\n",
    "\n",
    "## Objectives\n",
    "- Process and analyze financial trading data\n",
    "- Develop a VAE-LSTM model for anomaly detection\n",
    "- Evaluate model performance for identifying market anomalies\n",
    "- Visualize results with anomaly indicators"
   ]
  },
  {
   "cell_type": "markdown",
   "id": "72f06a38",
   "metadata": {},
   "source": [
    "## 1. Data Preparation and Environment Setup\n",
    "\n",
    "First, we set up the environment and load the required data. We're using CPALL stock data from a parquet file."
   ]
  },
  {
   "cell_type": "code",
   "execution_count": null,
   "id": "dfb33908",
   "metadata": {},
   "outputs": [
    {
     "name": "stdout",
     "output_type": "stream",
     "text": [
      "Data directories initialized. Local data will be saved to c:\\Users\\vps\\services\\projects\\valueoftime\\v3\\data\n"
     ]
    }
   ],
   "source": [
    "from setup_root import *\n",
    "from pathlib import Path\n",
    "import os\n",
    "\n",
    "# Setup project directories\n",
    "project_root = Path(PROJECT_DIR)\n",
    "data_dir = project_root / \"data\"\n",
    "\n",
    "# Ensure local data directory exists\n",
    "local_data_dir = Path(\"./data\")\n",
    "local_data_dir.mkdir(exist_ok=True)\n",
    "\n",
    "tickmatch_dir = data_dir / \"tickmatch\"\n",
    "bidask_dir = data_dir / \"bidask\"\n",
    "\n",
    "tm_intra_dir = tickmatch_dir / \"intraday\"\n",
    "ba_intra_dir = bidask_dir / \"intraday\"\n",
    "\n",
    "print(f\"Data directories initialized. Local data will be saved to {local_data_dir.absolute()}\")"
   ]
  },
  {
   "cell_type": "markdown",
   "id": "2ce179db",
   "metadata": {},
   "source": [
    "## 2. Import Required Libraries\n",
    "\n",
    "We import the necessary libraries for data processing, model building, and visualization."
   ]
  },
  {
   "cell_type": "code",
   "execution_count": 2,
   "id": "8e4bd00c",
   "metadata": {},
   "outputs": [],
   "source": [
    "import numpy as np\n",
    "import pandas as pd\n",
    "from sklearn.preprocessing import StandardScaler\n",
    "import tensorflow as tf\n",
    "from tensorflow.keras import layers, models\n",
    "from tqdm import tqdm\n",
    "from matplotlib import pyplot as plt\n",
    "\n",
    "# Set random seeds for reproducibility\n",
    "np.random.seed(42)\n",
    "tf.random.set_seed(42)"
   ]
  },
  {
   "cell_type": "markdown",
   "id": "bbb523dc",
   "metadata": {},
   "source": [
    "## 3. Load and Process Trading Data\n",
    "\n",
    "We load trading data for CPALL stock and process it to create daily aggregations."
   ]
  },
  {
   "cell_type": "code",
   "execution_count": null,
   "id": "872eab83",
   "metadata": {},
   "outputs": [
    {
     "name": "stdout",
     "output_type": "stream",
     "text": [
      "Loaded 2,598,399 records for CPALL\n"
     ]
    },
    {
     "data": {
      "application/vnd.microsoft.datawrangler.viewer.v0+json": {
       "columns": [
        {
         "name": "index",
         "rawType": "int64",
         "type": "integer"
        },
        {
         "name": "time",
         "rawType": "datetime64[ns]",
         "type": "datetime"
        },
        {
         "name": "vol",
         "rawType": "int64",
         "type": "integer"
        },
        {
         "name": "last",
         "rawType": "float64",
         "type": "float"
        },
        {
         "name": "net_val",
         "rawType": "float64",
         "type": "float"
        },
        {
         "name": "date",
         "rawType": "datetime64[ns]",
         "type": "datetime"
        },
        {
         "name": "net_vol",
         "rawType": "int64",
         "type": "integer"
        },
        {
         "name": "type",
         "rawType": "object",
         "type": "string"
        },
        {
         "name": "id",
         "rawType": "object",
         "type": "string"
        },
        {
         "name": "symbol",
         "rawType": "object",
         "type": "string"
        }
       ],
       "conversionMethod": "pd.DataFrame",
       "ref": "bc297ce9-f503-4161-b955-05597308d080",
       "rows": [
        [
         "0",
         "2022-01-04 09:58:00",
         "399600",
         "59.0",
         "23576400.0",
         "2022-01-04 00:00:00",
         "399600",
         "BUY",
         "475",
         "CPALL"
        ],
        [
         "1",
         "2022-01-04 09:58:00",
         "12400",
         "59.0",
         "-731600.0",
         "2022-01-04 00:00:00",
         "-12400",
         "SELL",
         "416",
         "CPALL"
        ],
        [
         "2",
         "2022-01-04 09:58:00",
         "500",
         "59.0",
         "-29500.0",
         "2022-01-04 00:00:00",
         "-500",
         "SELL",
         "458",
         "CPALL"
        ],
        [
         "3",
         "2022-01-04 09:58:00",
         "2600",
         "59.0",
         "-153400.0",
         "2022-01-04 00:00:00",
         "-2600",
         "SELL",
         "010",
         "CPALL"
        ],
        [
         "4",
         "2022-01-04 09:58:00",
         "400",
         "59.25",
         "23700.0",
         "2022-01-04 00:00:00",
         "400",
         "BUY",
         "733",
         "CPALL"
        ]
       ],
       "shape": {
        "columns": 9,
        "rows": 5
       }
      },
      "text/html": [
       "<div>\n",
       "<style scoped>\n",
       "    .dataframe tbody tr th:only-of-type {\n",
       "        vertical-align: middle;\n",
       "    }\n",
       "\n",
       "    .dataframe tbody tr th {\n",
       "        vertical-align: top;\n",
       "    }\n",
       "\n",
       "    .dataframe thead th {\n",
       "        text-align: right;\n",
       "    }\n",
       "</style>\n",
       "<table border=\"1\" class=\"dataframe\">\n",
       "  <thead>\n",
       "    <tr style=\"text-align: right;\">\n",
       "      <th></th>\n",
       "      <th>time</th>\n",
       "      <th>vol</th>\n",
       "      <th>last</th>\n",
       "      <th>net_val</th>\n",
       "      <th>date</th>\n",
       "      <th>net_vol</th>\n",
       "      <th>type</th>\n",
       "      <th>id</th>\n",
       "      <th>symbol</th>\n",
       "    </tr>\n",
       "  </thead>\n",
       "  <tbody>\n",
       "    <tr>\n",
       "      <th>0</th>\n",
       "      <td>2022-01-04 09:58:00</td>\n",
       "      <td>399600</td>\n",
       "      <td>59.00</td>\n",
       "      <td>23576400.0</td>\n",
       "      <td>2022-01-04</td>\n",
       "      <td>399600</td>\n",
       "      <td>BUY</td>\n",
       "      <td>475</td>\n",
       "      <td>CPALL</td>\n",
       "    </tr>\n",
       "    <tr>\n",
       "      <th>1</th>\n",
       "      <td>2022-01-04 09:58:00</td>\n",
       "      <td>12400</td>\n",
       "      <td>59.00</td>\n",
       "      <td>-731600.0</td>\n",
       "      <td>2022-01-04</td>\n",
       "      <td>-12400</td>\n",
       "      <td>SELL</td>\n",
       "      <td>416</td>\n",
       "      <td>CPALL</td>\n",
       "    </tr>\n",
       "    <tr>\n",
       "      <th>2</th>\n",
       "      <td>2022-01-04 09:58:00</td>\n",
       "      <td>500</td>\n",
       "      <td>59.00</td>\n",
       "      <td>-29500.0</td>\n",
       "      <td>2022-01-04</td>\n",
       "      <td>-500</td>\n",
       "      <td>SELL</td>\n",
       "      <td>458</td>\n",
       "      <td>CPALL</td>\n",
       "    </tr>\n",
       "    <tr>\n",
       "      <th>3</th>\n",
       "      <td>2022-01-04 09:58:00</td>\n",
       "      <td>2600</td>\n",
       "      <td>59.00</td>\n",
       "      <td>-153400.0</td>\n",
       "      <td>2022-01-04</td>\n",
       "      <td>-2600</td>\n",
       "      <td>SELL</td>\n",
       "      <td>010</td>\n",
       "      <td>CPALL</td>\n",
       "    </tr>\n",
       "    <tr>\n",
       "      <th>4</th>\n",
       "      <td>2022-01-04 09:58:00</td>\n",
       "      <td>400</td>\n",
       "      <td>59.25</td>\n",
       "      <td>23700.0</td>\n",
       "      <td>2022-01-04</td>\n",
       "      <td>400</td>\n",
       "      <td>BUY</td>\n",
       "      <td>733</td>\n",
       "      <td>CPALL</td>\n",
       "    </tr>\n",
       "  </tbody>\n",
       "</table>\n",
       "</div>"
      ],
      "text/plain": [
       "                 time     vol   last     net_val       date  net_vol  type  \\\n",
       "0 2022-01-04 09:58:00  399600  59.00  23576400.0 2022-01-04   399600   BUY   \n",
       "1 2022-01-04 09:58:00   12400  59.00   -731600.0 2022-01-04   -12400  SELL   \n",
       "2 2022-01-04 09:58:00     500  59.00    -29500.0 2022-01-04     -500  SELL   \n",
       "3 2022-01-04 09:58:00    2600  59.00   -153400.0 2022-01-04    -2600  SELL   \n",
       "4 2022-01-04 09:58:00     400  59.25     23700.0 2022-01-04      400   BUY   \n",
       "\n",
       "    id symbol  \n",
       "0  475  CPALL  \n",
       "1  416  CPALL  \n",
       "2  458  CPALL  \n",
       "3  010  CPALL  \n",
       "4  733  CPALL  "
      ]
     },
     "execution_count": 3,
     "metadata": {},
     "output_type": "execute_result"
    }
   ],
   "source": [
    "symbol = \"CPALL\"\n",
    "\n",
    "# Load trade data from parquet file\n",
    "tm_symbol_dir = tm_intra_dir / f\"{symbol}.parquet\"\n",
    "tm_df = pd.read_parquet(tm_symbol_dir)\n",
    "\n",
    "\n",
    "print(f\"Loaded {len(tm_df):,} records for {symbol}\")\n",
    "tm_df.head()"
   ]
  },
  {
   "cell_type": "markdown",
   "id": "a8fe2f69",
   "metadata": {},
   "source": [
    "### 3.1 Extract Daily Price Series\n",
    "\n",
    "We extract the daily closing prices for later analysis and visualization."
   ]
  },
  {
   "cell_type": "code",
   "execution_count": 4,
   "id": "0adb881c",
   "metadata": {},
   "outputs": [
    {
     "name": "stdout",
     "output_type": "stream",
     "text": [
      "Daily price series spans from 2022-01-04 to 2025-05-02\n"
     ]
    },
    {
     "data": {
      "text/plain": [
       "time\n",
       "2022-01-04    59.75\n",
       "2022-01-05    59.75\n",
       "2022-01-06    58.50\n",
       "2022-01-07    58.25\n",
       "2022-01-10    58.25\n",
       "Name: last, dtype: float64"
      ]
     },
     "execution_count": 4,
     "metadata": {},
     "output_type": "execute_result"
    }
   ],
   "source": [
    "# Extract daily last prices\n",
    "daily_last = tm_df.set_index(\"time\")[\"last\"].resample(\"1D\").last().dropna()\n",
    "\n",
    "print(f\"Daily price series spans from {daily_last.index.min().date()} to {daily_last.index.max().date()}\")\n",
    "daily_last.head()"
   ]
  },
  {
   "cell_type": "markdown",
   "id": "37e76148",
   "metadata": {},
   "source": [
    "### 3.2 Create Daily Trading Aggregations\n",
    "\n",
    "We aggregate the tick data into daily metrics including volume, trade count, buy/sell volume, and average price."
   ]
  },
  {
   "cell_type": "code",
   "execution_count": null,
   "id": "8e2d6aff",
   "metadata": {},
   "outputs": [
    {
     "name": "stdout",
     "output_type": "stream",
     "text": [
      "Saved daily aggregations to data\\CPALL_daily.csv\n"
     ]
    },
    {
     "data": {
      "application/vnd.microsoft.datawrangler.viewer.v0+json": {
       "columns": [
        {
         "name": "time",
         "rawType": "datetime64[ns]",
         "type": "datetime"
        },
        {
         "name": "price_avg",
         "rawType": "float64",
         "type": "float"
        },
        {
         "name": "vol_sum",
         "rawType": "int64",
         "type": "integer"
        },
        {
         "name": "id_count",
         "rawType": "int64",
         "type": "integer"
        },
        {
         "name": "buy_vol",
         "rawType": "float64",
         "type": "float"
        },
        {
         "name": "sell_vol",
         "rawType": "float64",
         "type": "float"
        }
       ],
       "conversionMethod": "pd.DataFrame",
       "ref": "31239313-8c41-4fc0-b119-0430964f22b3",
       "rows": [
        [
         "2025-04-25 00:00:00",
         "50.34214786832164",
         "15802500",
         "5559",
         "3453767.789115548",
         "485745.39264217863"
        ],
        [
         "2025-04-28 00:00:00",
         "49.84278002699055",
         "18680500",
         "2223",
         "2512933.761378914",
         "901144.5122921094"
        ],
        [
         "2025-04-29 00:00:00",
         "50.0876380126183",
         "17404400",
         "2536",
         "4805459.428965882",
         "955805.9202072438"
        ],
        [
         "2025-04-30 00:00:00",
         "51.17824179149645",
         "43361800",
         "6609",
         "8908652.628465332",
         "658642.1593350614"
        ],
        [
         "2025-05-02 00:00:00",
         "51.60682103939648",
         "36170300",
         "4772",
         "4755984.310188353",
         "956034.4778929444"
        ]
       ],
       "shape": {
        "columns": 5,
        "rows": 5
       }
      },
      "text/html": [
       "<div>\n",
       "<style scoped>\n",
       "    .dataframe tbody tr th:only-of-type {\n",
       "        vertical-align: middle;\n",
       "    }\n",
       "\n",
       "    .dataframe tbody tr th {\n",
       "        vertical-align: top;\n",
       "    }\n",
       "\n",
       "    .dataframe thead th {\n",
       "        text-align: right;\n",
       "    }\n",
       "</style>\n",
       "<table border=\"1\" class=\"dataframe\">\n",
       "  <thead>\n",
       "    <tr style=\"text-align: right;\">\n",
       "      <th></th>\n",
       "      <th>price_avg</th>\n",
       "      <th>vol_sum</th>\n",
       "      <th>id_count</th>\n",
       "      <th>buy_vol</th>\n",
       "      <th>sell_vol</th>\n",
       "    </tr>\n",
       "    <tr>\n",
       "      <th>time</th>\n",
       "      <th></th>\n",
       "      <th></th>\n",
       "      <th></th>\n",
       "      <th></th>\n",
       "      <th></th>\n",
       "    </tr>\n",
       "  </thead>\n",
       "  <tbody>\n",
       "    <tr>\n",
       "      <th>2025-04-25</th>\n",
       "      <td>50.342148</td>\n",
       "      <td>15802500</td>\n",
       "      <td>5559</td>\n",
       "      <td>3.453768e+06</td>\n",
       "      <td>485745.392642</td>\n",
       "    </tr>\n",
       "    <tr>\n",
       "      <th>2025-04-28</th>\n",
       "      <td>49.842780</td>\n",
       "      <td>18680500</td>\n",
       "      <td>2223</td>\n",
       "      <td>2.512934e+06</td>\n",
       "      <td>901144.512292</td>\n",
       "    </tr>\n",
       "    <tr>\n",
       "      <th>2025-04-29</th>\n",
       "      <td>50.087638</td>\n",
       "      <td>17404400</td>\n",
       "      <td>2536</td>\n",
       "      <td>4.805459e+06</td>\n",
       "      <td>955805.920207</td>\n",
       "    </tr>\n",
       "    <tr>\n",
       "      <th>2025-04-30</th>\n",
       "      <td>51.178242</td>\n",
       "      <td>43361800</td>\n",
       "      <td>6609</td>\n",
       "      <td>8.908653e+06</td>\n",
       "      <td>658642.159335</td>\n",
       "    </tr>\n",
       "    <tr>\n",
       "      <th>2025-05-02</th>\n",
       "      <td>51.606821</td>\n",
       "      <td>36170300</td>\n",
       "      <td>4772</td>\n",
       "      <td>4.755984e+06</td>\n",
       "      <td>956034.477893</td>\n",
       "    </tr>\n",
       "  </tbody>\n",
       "</table>\n",
       "</div>"
      ],
      "text/plain": [
       "            price_avg   vol_sum  id_count       buy_vol       sell_vol\n",
       "time                                                                  \n",
       "2025-04-25  50.342148  15802500      5559  3.453768e+06  485745.392642\n",
       "2025-04-28  49.842780  18680500      2223  2.512934e+06  901144.512292\n",
       "2025-04-29  50.087638  17404400      2536  4.805459e+06  955805.920207\n",
       "2025-04-30  51.178242  43361800      6609  8.908653e+06  658642.159335\n",
       "2025-05-02  51.606821  36170300      4772  4.755984e+06  956034.477893"
      ]
     },
     "execution_count": 5,
     "metadata": {},
     "output_type": "execute_result"
    }
   ],
   "source": [
    "# Aggregate buy/sell volumes by day\n",
    "vol_df = tm_df.pivot_table(index='time', values='vol', columns='type')[['BUY', 'SELL']].\\\n",
    "        rename(columns={'BUY': 'buy_vol', 'SELL': 'sell_vol'}).fillna(0).\\\n",
    "        groupby([pd.Grouper(freq='D')]).agg({'buy_vol': 'sum', 'sell_vol': 'sum'})\n",
    "\n",
    "# Create daily aggregations of price and volume data\n",
    "tm_daily = tm_df.groupby([pd.Grouper(key=\"time\", freq=\"D\")]).agg({\n",
    "            'last': 'mean',\n",
    "            'vol':'sum',\n",
    "            'id':'count',\n",
    "        }).\\\n",
    "        dropna().\\\n",
    "        rename({\n",
    "            'last':'price_avg',\n",
    "            'vol':'vol_sum',\n",
    "            'id':'id_count'\n",
    "        }, axis=1)\n",
    "\n",
    "# Merge daily aggregations with buy/sell volumes\n",
    "tm_daily = tm_daily.merge(vol_df, how='left', left_index=True, right_index=True)\n",
    "\n",
    "# Save the daily data for future use\n",
    "tm_daily.to_csv(local_data_dir / f\"{symbol}_daily.csv\")\n",
    "print(f\"Saved daily aggregations to {local_data_dir / f'{symbol}_daily.csv'}\")\n",
    "\n",
    "\n",
    "# For reproducibility, use tm_daily from the saved file instead of reloading\n",
    "# Load the daily data from the saved CSV file\n",
    "\n",
    "tm_daily = pd.read_csv(local_data_dir / f\"{symbol}_daily.csv\", index_col=0, parse_dates=True)\n",
    "print(f\"Loaded {len(tm_daily):,} records for {symbol} daily data\")\n",
    "\n",
    "\n",
    "\n",
    "tm_daily.tail()"
   ]
  },
  {
   "cell_type": "markdown",
   "id": "34803a17",
   "metadata": {},
   "source": [
    "## 4. Data Splitting and Preparation for Modeling\n",
    "\n",
    "We split the data into training and testing sets for model development."
   ]
  },
  {
   "cell_type": "code",
   "execution_count": 6,
   "id": "19c18de7",
   "metadata": {},
   "outputs": [
    {
     "name": "stdout",
     "output_type": "stream",
     "text": [
      "Total trading days: 810\n",
      "Training set: 567 days (70.0%)\n",
      "Test set: 243 days (30.0%)\n",
      "\n",
      "Training period:\n",
      "From: 2022-01-04 to 2024-05-03\n",
      "\n",
      "Test period:\n",
      "From: 2024-05-07 to 2025-05-02\n"
     ]
    }
   ],
   "source": [
    "# Split data into training (70%) and testing (30%) sets\n",
    "n_days = len(tm_daily)\n",
    "train_days = int(n_days * 0.7)\n",
    "tm_daily_train = tm_daily.iloc[:train_days]\n",
    "tm_daily_test = tm_daily.iloc[train_days:]\n",
    "\n",
    "print(f\"Total trading days: {n_days}\")\n",
    "print(f\"Training set: {len(tm_daily_train)} days ({train_days/n_days:.1%})\")\n",
    "print(f\"Test set: {len(tm_daily_test)} days ({len(tm_daily_test)/n_days:.1%})\")\n",
    "\n",
    "print(\"\\nTraining period:\")\n",
    "print(f\"From: {tm_daily_train.index.min().date()} to {tm_daily_train.index.max().date()}\")\n",
    "\n",
    "print(\"\\nTest period:\")\n",
    "print(f\"From: {tm_daily_test.index.min().date()} to {tm_daily_test.index.max().date()}\")"
   ]
  },
  {
   "cell_type": "markdown",
   "id": "6458a6f4",
   "metadata": {},
   "source": [
    "### 4.1 Sequence Generation for Time Series Modeling\n",
    "\n",
    "We create sequences of previous days' data to use as input for our LSTM-VAE model."
   ]
  },
  {
   "cell_type": "code",
   "execution_count": 7,
   "id": "2c1e3ecc",
   "metadata": {},
   "outputs": [
    {
     "name": "stdout",
     "output_type": "stream",
     "text": [
      "Using 20 previous trading days to create each input sequence\n"
     ]
    }
   ],
   "source": [
    "# Define sequence length (number of previous days to use for prediction)\n",
    "seq_len = 20\n",
    "print(f\"Using {seq_len} previous trading days to create each input sequence\")"
   ]
  },
  {
   "cell_type": "code",
   "execution_count": 8,
   "id": "95224c2b",
   "metadata": {},
   "outputs": [
    {
     "name": "stdout",
     "output_type": "stream",
     "text": [
      "Training sequences shape: (548, 20, 5)\n",
      "Validation sequences shape: (547, 20, 5)\n"
     ]
    }
   ],
   "source": [
    "# Function to create sequences from time series data\n",
    "def create_sequences(data, seq_len=20):\n",
    "    \"\"\"\n",
    "    Create sequences from time series data with specified sequence length.\n",
    "    \n",
    "    Args:\n",
    "        data (DataFrame): Time series data\n",
    "        seq_len (int): Length of sequence to generate\n",
    "        \n",
    "    Returns:\n",
    "        numpy.ndarray: Array of sequences\n",
    "    \"\"\"\n",
    "    sequences = []\n",
    "    for i in range(len(data) - seq_len + 1):\n",
    "        seq = data[i:i+seq_len]\n",
    "        sequences.append(seq)\n",
    "    return np.array(sequences)\n",
    "\n",
    "# Standardize the data for better model performance\n",
    "scaler = StandardScaler()\n",
    "\n",
    "# Create training sequences\n",
    "X_train = create_sequences(tm_daily_train, seq_len=seq_len)\n",
    "X_val = create_sequences(tm_daily_train[1:], seq_len=seq_len)  # Shifted by 1 day for validation\n",
    "\n",
    "# Apply standardization\n",
    "X_train = scaler.fit_transform(X_train.reshape(-1, X_train.shape[-1])).reshape(X_train.shape)\n",
    "X_val = scaler.transform(X_val.reshape(-1, X_val.shape[-1])).reshape(X_val.shape)\n",
    "\n",
    "print(f\"Training sequences shape: {X_train.shape}\")\n",
    "print(f\"Validation sequences shape: {X_val.shape}\")"
   ]
  },
  {
   "cell_type": "markdown",
   "id": "e6580121",
   "metadata": {},
   "source": [
    "## 5. LSTM-VAE Model Architecture\n",
    "\n",
    "We define the LSTM-VAE architecture for anomaly detection in time series data."
   ]
  },
  {
   "cell_type": "code",
   "execution_count": 9,
   "id": "9b00f2d1",
   "metadata": {},
   "outputs": [],
   "source": [
    "from tensorflow.keras import layers, models\n",
    "import tensorflow as tf\n",
    "\n",
    "class VAE(models.Model):\n",
    "    \"\"\"\n",
    "    Variational Autoencoder model for time series anomaly detection\n",
    "    \"\"\"\n",
    "    def __init__(self, encoder, decoder, **kwargs):\n",
    "        super(VAE, self).__init__(**kwargs)\n",
    "        self.encoder = encoder\n",
    "        self.decoder = decoder\n",
    "\n",
    "    def call(self, inputs):\n",
    "        # Get latent space representation\n",
    "        z_mean, z_log_var, z = self.encoder(inputs)\n",
    "        reconstructed = self.decoder(z)\n",
    "        \n",
    "        # Focus on the last timestep for reconstruction loss\n",
    "        x_true_last = inputs[:, -1:, :]  # shape: (batch_size, 1, num_features)\n",
    "\n",
    "        # Calculate reconstruction loss for the last timestep\n",
    "        reconstruction_loss = tf.reduce_mean(tf.square(x_true_last - reconstructed))\n",
    "\n",
    "        # Calculate KL divergence loss\n",
    "        kl_loss = -0.5 * tf.reduce_mean(\n",
    "            1 + z_log_var - tf.square(z_mean) - tf.exp(z_log_var)\n",
    "        )\n",
    "\n",
    "        # Total loss = reconstruction loss + KL loss\n",
    "        total_loss = reconstruction_loss + kl_loss\n",
    "        self.add_loss(total_loss)\n",
    "        \n",
    "        return reconstructed\n",
    "\n",
    "class Sampling(layers.Layer):\n",
    "    \"\"\"\n",
    "    Sampling layer for VAE - samples from the latent distribution\n",
    "    \"\"\"\n",
    "    def call(self, inputs):\n",
    "        z_mean, z_log_var = inputs\n",
    "        batch = tf.shape(z_mean)[0]\n",
    "        dim = tf.shape(z_mean)[1]\n",
    "        epsilon = tf.keras.backend.random_normal(shape=(batch, dim))\n",
    "        return z_mean + tf.exp(0.5 * z_log_var) * epsilon"
   ]
  },
  {
   "cell_type": "markdown",
   "id": "031ae5ac",
   "metadata": {},
   "source": [
    "### 5.1 Model Building Function\n",
    "\n",
    "We define a function to build the LSTM-VAE model with encoder and decoder components."
   ]
  },
  {
   "cell_type": "code",
   "execution_count": 10,
   "id": "f1cb24ea",
   "metadata": {},
   "outputs": [],
   "source": [
    "def build_lstm_vae(sequence_length, num_features, latent_dim):\n",
    "    \"\"\"\n",
    "    Build LSTM-VAE model for time series anomaly detection\n",
    "    \n",
    "    Args:\n",
    "        sequence_length: Length of input time series sequence\n",
    "        num_features: Number of features in each timestep\n",
    "        latent_dim: Dimension of the latent space\n",
    "        \n",
    "    Returns:\n",
    "        tuple: (vae_model, encoder_model, decoder_model)\n",
    "    \"\"\"\n",
    "    # Encoder\n",
    "    encoder_inputs = layers.Input(shape=(sequence_length, num_features))\n",
    "    lstm_enc = layers.LSTM(64, return_sequences=True, activation='relu')(encoder_inputs)\n",
    "    lstm_enc = layers.BatchNormalization()(lstm_enc)  # Batch normalization for better training\n",
    "    lstm_enc = layers.LSTM(32, return_sequences=False, activation='relu')(lstm_enc)\n",
    "    lstm_enc = layers.BatchNormalization()(lstm_enc)  # Batch normalization\n",
    "    \n",
    "    # Latent space parameters\n",
    "    z_mean = layers.Dense(latent_dim, name=\"z_mean\")(lstm_enc)\n",
    "    z_log_var = layers.Dense(latent_dim, name=\"z_log_var\")(lstm_enc)\n",
    "    z = Sampling()([z_mean, z_log_var])  # Sample from latent distribution\n",
    "\n",
    "    encoder = models.Model(encoder_inputs, [z_mean, z_log_var, z], name=\"encoder\")\n",
    "    \n",
    "    # Decoder\n",
    "    decoder_inputs = layers.Input(shape=(latent_dim,))\n",
    "    z_reshaped = layers.Reshape((1, latent_dim))(decoder_inputs)\n",
    "    decoder_lstm = layers.LSTM(32, return_sequences=True, activation='relu')(z_reshaped)\n",
    "    decoder_lstm = layers.BatchNormalization()(decoder_lstm)  # Batch normalization\n",
    "    decoder_lstm = layers.LSTM(64, return_sequences=True, activation='relu')(decoder_lstm)\n",
    "    decoder_lstm = layers.BatchNormalization()(decoder_lstm)  # Batch normalization\n",
    "    \n",
    "    decoder_outputs = layers.Dense(num_features)(decoder_lstm)\n",
    "\n",
    "    decoder = models.Model(decoder_inputs, decoder_outputs, name=\"decoder\")\n",
    "\n",
    "    # Combine encoder and decoder into VAE\n",
    "    vae = VAE(encoder, decoder)\n",
    "    return vae, encoder, decoder"
   ]
  },
  {
   "cell_type": "markdown",
   "id": "9d711908",
   "metadata": {},
   "source": [
    "### 5.2 Model Training\n",
    "\n",
    "We build and train the LSTM-VAE model on our training data."
   ]
  },
  {
   "cell_type": "code",
   "execution_count": 14,
   "id": "beba7887",
   "metadata": {},
   "outputs": [
    {
     "name": "stdout",
     "output_type": "stream",
     "text": [
      "Encoder Summary:\n"
     ]
    },
    {
     "data": {
      "text/html": [
       "<pre style=\"white-space:pre;overflow-x:auto;line-height:normal;font-family:Menlo,'DejaVu Sans Mono',consolas,'Courier New',monospace\"><span style=\"font-weight: bold\">Model: \"encoder\"</span>\n",
       "</pre>\n"
      ],
      "text/plain": [
       "\u001b[1mModel: \"encoder\"\u001b[0m\n"
      ]
     },
     "metadata": {},
     "output_type": "display_data"
    },
    {
     "data": {
      "text/html": [
       "<pre style=\"white-space:pre;overflow-x:auto;line-height:normal;font-family:Menlo,'DejaVu Sans Mono',consolas,'Courier New',monospace\">┏━━━━━━━━━━━━━━━━━━━━━┳━━━━━━━━━━━━━━━━━━━┳━━━━━━━━━━━━┳━━━━━━━━━━━━━━━━━━━┓\n",
       "┃<span style=\"font-weight: bold\"> Layer (type)        </span>┃<span style=\"font-weight: bold\"> Output Shape      </span>┃<span style=\"font-weight: bold\">    Param # </span>┃<span style=\"font-weight: bold\"> Connected to      </span>┃\n",
       "┡━━━━━━━━━━━━━━━━━━━━━╇━━━━━━━━━━━━━━━━━━━╇━━━━━━━━━━━━╇━━━━━━━━━━━━━━━━━━━┩\n",
       "│ input_layer_2       │ (<span style=\"color: #00d7ff; text-decoration-color: #00d7ff\">None</span>, <span style=\"color: #00af00; text-decoration-color: #00af00\">20</span>, <span style=\"color: #00af00; text-decoration-color: #00af00\">5</span>)     │          <span style=\"color: #00af00; text-decoration-color: #00af00\">0</span> │ -                 │\n",
       "│ (<span style=\"color: #0087ff; text-decoration-color: #0087ff\">InputLayer</span>)        │                   │            │                   │\n",
       "├─────────────────────┼───────────────────┼────────────┼───────────────────┤\n",
       "│ lstm_4 (<span style=\"color: #0087ff; text-decoration-color: #0087ff\">LSTM</span>)       │ (<span style=\"color: #00d7ff; text-decoration-color: #00d7ff\">None</span>, <span style=\"color: #00af00; text-decoration-color: #00af00\">20</span>, <span style=\"color: #00af00; text-decoration-color: #00af00\">64</span>)    │     <span style=\"color: #00af00; text-decoration-color: #00af00\">17,920</span> │ input_layer_2[<span style=\"color: #00af00; text-decoration-color: #00af00\">0</span>]… │\n",
       "├─────────────────────┼───────────────────┼────────────┼───────────────────┤\n",
       "│ batch_normalizatio… │ (<span style=\"color: #00d7ff; text-decoration-color: #00d7ff\">None</span>, <span style=\"color: #00af00; text-decoration-color: #00af00\">20</span>, <span style=\"color: #00af00; text-decoration-color: #00af00\">64</span>)    │        <span style=\"color: #00af00; text-decoration-color: #00af00\">256</span> │ lstm_4[<span style=\"color: #00af00; text-decoration-color: #00af00\">0</span>][<span style=\"color: #00af00; text-decoration-color: #00af00\">0</span>]      │\n",
       "│ (<span style=\"color: #0087ff; text-decoration-color: #0087ff\">BatchNormalizatio…</span> │                   │            │                   │\n",
       "├─────────────────────┼───────────────────┼────────────┼───────────────────┤\n",
       "│ lstm_5 (<span style=\"color: #0087ff; text-decoration-color: #0087ff\">LSTM</span>)       │ (<span style=\"color: #00d7ff; text-decoration-color: #00d7ff\">None</span>, <span style=\"color: #00af00; text-decoration-color: #00af00\">32</span>)        │     <span style=\"color: #00af00; text-decoration-color: #00af00\">12,416</span> │ batch_normalizat… │\n",
       "├─────────────────────┼───────────────────┼────────────┼───────────────────┤\n",
       "│ batch_normalizatio… │ (<span style=\"color: #00d7ff; text-decoration-color: #00d7ff\">None</span>, <span style=\"color: #00af00; text-decoration-color: #00af00\">32</span>)        │        <span style=\"color: #00af00; text-decoration-color: #00af00\">128</span> │ lstm_5[<span style=\"color: #00af00; text-decoration-color: #00af00\">0</span>][<span style=\"color: #00af00; text-decoration-color: #00af00\">0</span>]      │\n",
       "│ (<span style=\"color: #0087ff; text-decoration-color: #0087ff\">BatchNormalizatio…</span> │                   │            │                   │\n",
       "├─────────────────────┼───────────────────┼────────────┼───────────────────┤\n",
       "│ z_mean (<span style=\"color: #0087ff; text-decoration-color: #0087ff\">Dense</span>)      │ (<span style=\"color: #00d7ff; text-decoration-color: #00d7ff\">None</span>, <span style=\"color: #00af00; text-decoration-color: #00af00\">18</span>)        │        <span style=\"color: #00af00; text-decoration-color: #00af00\">594</span> │ batch_normalizat… │\n",
       "├─────────────────────┼───────────────────┼────────────┼───────────────────┤\n",
       "│ z_log_var (<span style=\"color: #0087ff; text-decoration-color: #0087ff\">Dense</span>)   │ (<span style=\"color: #00d7ff; text-decoration-color: #00d7ff\">None</span>, <span style=\"color: #00af00; text-decoration-color: #00af00\">18</span>)        │        <span style=\"color: #00af00; text-decoration-color: #00af00\">594</span> │ batch_normalizat… │\n",
       "├─────────────────────┼───────────────────┼────────────┼───────────────────┤\n",
       "│ sampling_1          │ (<span style=\"color: #00d7ff; text-decoration-color: #00d7ff\">None</span>, <span style=\"color: #00af00; text-decoration-color: #00af00\">18</span>)        │          <span style=\"color: #00af00; text-decoration-color: #00af00\">0</span> │ z_mean[<span style=\"color: #00af00; text-decoration-color: #00af00\">0</span>][<span style=\"color: #00af00; text-decoration-color: #00af00\">0</span>],     │\n",
       "│ (<span style=\"color: #0087ff; text-decoration-color: #0087ff\">Sampling</span>)          │                   │            │ z_log_var[<span style=\"color: #00af00; text-decoration-color: #00af00\">0</span>][<span style=\"color: #00af00; text-decoration-color: #00af00\">0</span>]   │\n",
       "└─────────────────────┴───────────────────┴────────────┴───────────────────┘\n",
       "</pre>\n"
      ],
      "text/plain": [
       "┏━━━━━━━━━━━━━━━━━━━━━┳━━━━━━━━━━━━━━━━━━━┳━━━━━━━━━━━━┳━━━━━━━━━━━━━━━━━━━┓\n",
       "┃\u001b[1m \u001b[0m\u001b[1mLayer (type)       \u001b[0m\u001b[1m \u001b[0m┃\u001b[1m \u001b[0m\u001b[1mOutput Shape     \u001b[0m\u001b[1m \u001b[0m┃\u001b[1m \u001b[0m\u001b[1m   Param #\u001b[0m\u001b[1m \u001b[0m┃\u001b[1m \u001b[0m\u001b[1mConnected to     \u001b[0m\u001b[1m \u001b[0m┃\n",
       "┡━━━━━━━━━━━━━━━━━━━━━╇━━━━━━━━━━━━━━━━━━━╇━━━━━━━━━━━━╇━━━━━━━━━━━━━━━━━━━┩\n",
       "│ input_layer_2       │ (\u001b[38;5;45mNone\u001b[0m, \u001b[38;5;34m20\u001b[0m, \u001b[38;5;34m5\u001b[0m)     │          \u001b[38;5;34m0\u001b[0m │ -                 │\n",
       "│ (\u001b[38;5;33mInputLayer\u001b[0m)        │                   │            │                   │\n",
       "├─────────────────────┼───────────────────┼────────────┼───────────────────┤\n",
       "│ lstm_4 (\u001b[38;5;33mLSTM\u001b[0m)       │ (\u001b[38;5;45mNone\u001b[0m, \u001b[38;5;34m20\u001b[0m, \u001b[38;5;34m64\u001b[0m)    │     \u001b[38;5;34m17,920\u001b[0m │ input_layer_2[\u001b[38;5;34m0\u001b[0m]… │\n",
       "├─────────────────────┼───────────────────┼────────────┼───────────────────┤\n",
       "│ batch_normalizatio… │ (\u001b[38;5;45mNone\u001b[0m, \u001b[38;5;34m20\u001b[0m, \u001b[38;5;34m64\u001b[0m)    │        \u001b[38;5;34m256\u001b[0m │ lstm_4[\u001b[38;5;34m0\u001b[0m][\u001b[38;5;34m0\u001b[0m]      │\n",
       "│ (\u001b[38;5;33mBatchNormalizatio…\u001b[0m │                   │            │                   │\n",
       "├─────────────────────┼───────────────────┼────────────┼───────────────────┤\n",
       "│ lstm_5 (\u001b[38;5;33mLSTM\u001b[0m)       │ (\u001b[38;5;45mNone\u001b[0m, \u001b[38;5;34m32\u001b[0m)        │     \u001b[38;5;34m12,416\u001b[0m │ batch_normalizat… │\n",
       "├─────────────────────┼───────────────────┼────────────┼───────────────────┤\n",
       "│ batch_normalizatio… │ (\u001b[38;5;45mNone\u001b[0m, \u001b[38;5;34m32\u001b[0m)        │        \u001b[38;5;34m128\u001b[0m │ lstm_5[\u001b[38;5;34m0\u001b[0m][\u001b[38;5;34m0\u001b[0m]      │\n",
       "│ (\u001b[38;5;33mBatchNormalizatio…\u001b[0m │                   │            │                   │\n",
       "├─────────────────────┼───────────────────┼────────────┼───────────────────┤\n",
       "│ z_mean (\u001b[38;5;33mDense\u001b[0m)      │ (\u001b[38;5;45mNone\u001b[0m, \u001b[38;5;34m18\u001b[0m)        │        \u001b[38;5;34m594\u001b[0m │ batch_normalizat… │\n",
       "├─────────────────────┼───────────────────┼────────────┼───────────────────┤\n",
       "│ z_log_var (\u001b[38;5;33mDense\u001b[0m)   │ (\u001b[38;5;45mNone\u001b[0m, \u001b[38;5;34m18\u001b[0m)        │        \u001b[38;5;34m594\u001b[0m │ batch_normalizat… │\n",
       "├─────────────────────┼───────────────────┼────────────┼───────────────────┤\n",
       "│ sampling_1          │ (\u001b[38;5;45mNone\u001b[0m, \u001b[38;5;34m18\u001b[0m)        │          \u001b[38;5;34m0\u001b[0m │ z_mean[\u001b[38;5;34m0\u001b[0m][\u001b[38;5;34m0\u001b[0m],     │\n",
       "│ (\u001b[38;5;33mSampling\u001b[0m)          │                   │            │ z_log_var[\u001b[38;5;34m0\u001b[0m][\u001b[38;5;34m0\u001b[0m]   │\n",
       "└─────────────────────┴───────────────────┴────────────┴───────────────────┘\n"
      ]
     },
     "metadata": {},
     "output_type": "display_data"
    },
    {
     "data": {
      "text/html": [
       "<pre style=\"white-space:pre;overflow-x:auto;line-height:normal;font-family:Menlo,'DejaVu Sans Mono',consolas,'Courier New',monospace\"><span style=\"font-weight: bold\"> Total params: </span><span style=\"color: #00af00; text-decoration-color: #00af00\">31,908</span> (124.64 KB)\n",
       "</pre>\n"
      ],
      "text/plain": [
       "\u001b[1m Total params: \u001b[0m\u001b[38;5;34m31,908\u001b[0m (124.64 KB)\n"
      ]
     },
     "metadata": {},
     "output_type": "display_data"
    },
    {
     "data": {
      "text/html": [
       "<pre style=\"white-space:pre;overflow-x:auto;line-height:normal;font-family:Menlo,'DejaVu Sans Mono',consolas,'Courier New',monospace\"><span style=\"font-weight: bold\"> Trainable params: </span><span style=\"color: #00af00; text-decoration-color: #00af00\">31,716</span> (123.89 KB)\n",
       "</pre>\n"
      ],
      "text/plain": [
       "\u001b[1m Trainable params: \u001b[0m\u001b[38;5;34m31,716\u001b[0m (123.89 KB)\n"
      ]
     },
     "metadata": {},
     "output_type": "display_data"
    },
    {
     "data": {
      "text/html": [
       "<pre style=\"white-space:pre;overflow-x:auto;line-height:normal;font-family:Menlo,'DejaVu Sans Mono',consolas,'Courier New',monospace\"><span style=\"font-weight: bold\"> Non-trainable params: </span><span style=\"color: #00af00; text-decoration-color: #00af00\">192</span> (768.00 B)\n",
       "</pre>\n"
      ],
      "text/plain": [
       "\u001b[1m Non-trainable params: \u001b[0m\u001b[38;5;34m192\u001b[0m (768.00 B)\n"
      ]
     },
     "metadata": {},
     "output_type": "display_data"
    },
    {
     "name": "stdout",
     "output_type": "stream",
     "text": [
      "\n",
      "Decoder Summary:\n"
     ]
    },
    {
     "data": {
      "text/html": [
       "<pre style=\"white-space:pre;overflow-x:auto;line-height:normal;font-family:Menlo,'DejaVu Sans Mono',consolas,'Courier New',monospace\"><span style=\"font-weight: bold\">Model: \"decoder\"</span>\n",
       "</pre>\n"
      ],
      "text/plain": [
       "\u001b[1mModel: \"decoder\"\u001b[0m\n"
      ]
     },
     "metadata": {},
     "output_type": "display_data"
    },
    {
     "data": {
      "text/html": [
       "<pre style=\"white-space:pre;overflow-x:auto;line-height:normal;font-family:Menlo,'DejaVu Sans Mono',consolas,'Courier New',monospace\">┏━━━━━━━━━━━━━━━━━━━━━━━━━━━━━━━━━┳━━━━━━━━━━━━━━━━━━━━━━━━┳━━━━━━━━━━━━━━━┓\n",
       "┃<span style=\"font-weight: bold\"> Layer (type)                    </span>┃<span style=\"font-weight: bold\"> Output Shape           </span>┃<span style=\"font-weight: bold\">       Param # </span>┃\n",
       "┡━━━━━━━━━━━━━━━━━━━━━━━━━━━━━━━━━╇━━━━━━━━━━━━━━━━━━━━━━━━╇━━━━━━━━━━━━━━━┩\n",
       "│ input_layer_3 (<span style=\"color: #0087ff; text-decoration-color: #0087ff\">InputLayer</span>)      │ (<span style=\"color: #00d7ff; text-decoration-color: #00d7ff\">None</span>, <span style=\"color: #00af00; text-decoration-color: #00af00\">18</span>)             │             <span style=\"color: #00af00; text-decoration-color: #00af00\">0</span> │\n",
       "├─────────────────────────────────┼────────────────────────┼───────────────┤\n",
       "│ reshape_1 (<span style=\"color: #0087ff; text-decoration-color: #0087ff\">Reshape</span>)             │ (<span style=\"color: #00d7ff; text-decoration-color: #00d7ff\">None</span>, <span style=\"color: #00af00; text-decoration-color: #00af00\">1</span>, <span style=\"color: #00af00; text-decoration-color: #00af00\">18</span>)          │             <span style=\"color: #00af00; text-decoration-color: #00af00\">0</span> │\n",
       "├─────────────────────────────────┼────────────────────────┼───────────────┤\n",
       "│ lstm_6 (<span style=\"color: #0087ff; text-decoration-color: #0087ff\">LSTM</span>)                   │ (<span style=\"color: #00d7ff; text-decoration-color: #00d7ff\">None</span>, <span style=\"color: #00af00; text-decoration-color: #00af00\">1</span>, <span style=\"color: #00af00; text-decoration-color: #00af00\">32</span>)          │         <span style=\"color: #00af00; text-decoration-color: #00af00\">6,528</span> │\n",
       "├─────────────────────────────────┼────────────────────────┼───────────────┤\n",
       "│ batch_normalization_6           │ (<span style=\"color: #00d7ff; text-decoration-color: #00d7ff\">None</span>, <span style=\"color: #00af00; text-decoration-color: #00af00\">1</span>, <span style=\"color: #00af00; text-decoration-color: #00af00\">32</span>)          │           <span style=\"color: #00af00; text-decoration-color: #00af00\">128</span> │\n",
       "│ (<span style=\"color: #0087ff; text-decoration-color: #0087ff\">BatchNormalization</span>)            │                        │               │\n",
       "├─────────────────────────────────┼────────────────────────┼───────────────┤\n",
       "│ lstm_7 (<span style=\"color: #0087ff; text-decoration-color: #0087ff\">LSTM</span>)                   │ (<span style=\"color: #00d7ff; text-decoration-color: #00d7ff\">None</span>, <span style=\"color: #00af00; text-decoration-color: #00af00\">1</span>, <span style=\"color: #00af00; text-decoration-color: #00af00\">64</span>)          │        <span style=\"color: #00af00; text-decoration-color: #00af00\">24,832</span> │\n",
       "├─────────────────────────────────┼────────────────────────┼───────────────┤\n",
       "│ batch_normalization_7           │ (<span style=\"color: #00d7ff; text-decoration-color: #00d7ff\">None</span>, <span style=\"color: #00af00; text-decoration-color: #00af00\">1</span>, <span style=\"color: #00af00; text-decoration-color: #00af00\">64</span>)          │           <span style=\"color: #00af00; text-decoration-color: #00af00\">256</span> │\n",
       "│ (<span style=\"color: #0087ff; text-decoration-color: #0087ff\">BatchNormalization</span>)            │                        │               │\n",
       "├─────────────────────────────────┼────────────────────────┼───────────────┤\n",
       "│ dense_1 (<span style=\"color: #0087ff; text-decoration-color: #0087ff\">Dense</span>)                 │ (<span style=\"color: #00d7ff; text-decoration-color: #00d7ff\">None</span>, <span style=\"color: #00af00; text-decoration-color: #00af00\">1</span>, <span style=\"color: #00af00; text-decoration-color: #00af00\">5</span>)           │           <span style=\"color: #00af00; text-decoration-color: #00af00\">325</span> │\n",
       "└─────────────────────────────────┴────────────────────────┴───────────────┘\n",
       "</pre>\n"
      ],
      "text/plain": [
       "┏━━━━━━━━━━━━━━━━━━━━━━━━━━━━━━━━━┳━━━━━━━━━━━━━━━━━━━━━━━━┳━━━━━━━━━━━━━━━┓\n",
       "┃\u001b[1m \u001b[0m\u001b[1mLayer (type)                   \u001b[0m\u001b[1m \u001b[0m┃\u001b[1m \u001b[0m\u001b[1mOutput Shape          \u001b[0m\u001b[1m \u001b[0m┃\u001b[1m \u001b[0m\u001b[1m      Param #\u001b[0m\u001b[1m \u001b[0m┃\n",
       "┡━━━━━━━━━━━━━━━━━━━━━━━━━━━━━━━━━╇━━━━━━━━━━━━━━━━━━━━━━━━╇━━━━━━━━━━━━━━━┩\n",
       "│ input_layer_3 (\u001b[38;5;33mInputLayer\u001b[0m)      │ (\u001b[38;5;45mNone\u001b[0m, \u001b[38;5;34m18\u001b[0m)             │             \u001b[38;5;34m0\u001b[0m │\n",
       "├─────────────────────────────────┼────────────────────────┼───────────────┤\n",
       "│ reshape_1 (\u001b[38;5;33mReshape\u001b[0m)             │ (\u001b[38;5;45mNone\u001b[0m, \u001b[38;5;34m1\u001b[0m, \u001b[38;5;34m18\u001b[0m)          │             \u001b[38;5;34m0\u001b[0m │\n",
       "├─────────────────────────────────┼────────────────────────┼───────────────┤\n",
       "│ lstm_6 (\u001b[38;5;33mLSTM\u001b[0m)                   │ (\u001b[38;5;45mNone\u001b[0m, \u001b[38;5;34m1\u001b[0m, \u001b[38;5;34m32\u001b[0m)          │         \u001b[38;5;34m6,528\u001b[0m │\n",
       "├─────────────────────────────────┼────────────────────────┼───────────────┤\n",
       "│ batch_normalization_6           │ (\u001b[38;5;45mNone\u001b[0m, \u001b[38;5;34m1\u001b[0m, \u001b[38;5;34m32\u001b[0m)          │           \u001b[38;5;34m128\u001b[0m │\n",
       "│ (\u001b[38;5;33mBatchNormalization\u001b[0m)            │                        │               │\n",
       "├─────────────────────────────────┼────────────────────────┼───────────────┤\n",
       "│ lstm_7 (\u001b[38;5;33mLSTM\u001b[0m)                   │ (\u001b[38;5;45mNone\u001b[0m, \u001b[38;5;34m1\u001b[0m, \u001b[38;5;34m64\u001b[0m)          │        \u001b[38;5;34m24,832\u001b[0m │\n",
       "├─────────────────────────────────┼────────────────────────┼───────────────┤\n",
       "│ batch_normalization_7           │ (\u001b[38;5;45mNone\u001b[0m, \u001b[38;5;34m1\u001b[0m, \u001b[38;5;34m64\u001b[0m)          │           \u001b[38;5;34m256\u001b[0m │\n",
       "│ (\u001b[38;5;33mBatchNormalization\u001b[0m)            │                        │               │\n",
       "├─────────────────────────────────┼────────────────────────┼───────────────┤\n",
       "│ dense_1 (\u001b[38;5;33mDense\u001b[0m)                 │ (\u001b[38;5;45mNone\u001b[0m, \u001b[38;5;34m1\u001b[0m, \u001b[38;5;34m5\u001b[0m)           │           \u001b[38;5;34m325\u001b[0m │\n",
       "└─────────────────────────────────┴────────────────────────┴───────────────┘\n"
      ]
     },
     "metadata": {},
     "output_type": "display_data"
    },
    {
     "data": {
      "text/html": [
       "<pre style=\"white-space:pre;overflow-x:auto;line-height:normal;font-family:Menlo,'DejaVu Sans Mono',consolas,'Courier New',monospace\"><span style=\"font-weight: bold\"> Total params: </span><span style=\"color: #00af00; text-decoration-color: #00af00\">32,069</span> (125.27 KB)\n",
       "</pre>\n"
      ],
      "text/plain": [
       "\u001b[1m Total params: \u001b[0m\u001b[38;5;34m32,069\u001b[0m (125.27 KB)\n"
      ]
     },
     "metadata": {},
     "output_type": "display_data"
    },
    {
     "data": {
      "text/html": [
       "<pre style=\"white-space:pre;overflow-x:auto;line-height:normal;font-family:Menlo,'DejaVu Sans Mono',consolas,'Courier New',monospace\"><span style=\"font-weight: bold\"> Trainable params: </span><span style=\"color: #00af00; text-decoration-color: #00af00\">31,877</span> (124.52 KB)\n",
       "</pre>\n"
      ],
      "text/plain": [
       "\u001b[1m Trainable params: \u001b[0m\u001b[38;5;34m31,877\u001b[0m (124.52 KB)\n"
      ]
     },
     "metadata": {},
     "output_type": "display_data"
    },
    {
     "data": {
      "text/html": [
       "<pre style=\"white-space:pre;overflow-x:auto;line-height:normal;font-family:Menlo,'DejaVu Sans Mono',consolas,'Courier New',monospace\"><span style=\"font-weight: bold\"> Non-trainable params: </span><span style=\"color: #00af00; text-decoration-color: #00af00\">192</span> (768.00 B)\n",
       "</pre>\n"
      ],
      "text/plain": [
       "\u001b[1m Non-trainable params: \u001b[0m\u001b[38;5;34m192\u001b[0m (768.00 B)\n"
      ]
     },
     "metadata": {},
     "output_type": "display_data"
    }
   ],
   "source": [
    "# Build the VAE model\n",
    "latent_dim = 18  # Dimension of latent space\n",
    "vae, encoder, decoder = build_lstm_vae(\n",
    "    sequence_length=seq_len, \n",
    "    num_features=X_train.shape[2], \n",
    "    latent_dim=latent_dim\n",
    ")\n",
    "\n",
    "# Configure optimizer and compile model\n",
    "optimizer = tf.keras.optimizers.Adam(learning_rate=0.001) \n",
    "vae.compile(optimizer=optimizer)\n",
    "\n",
    "# Display model summary\n",
    "print(\"Encoder Summary:\")\n",
    "encoder.summary()\n",
    "print(\"\\nDecoder Summary:\")\n",
    "decoder.summary()"
   ]
  },
  {
   "cell_type": "code",
   "execution_count": 15,
   "id": "f85c28a4",
   "metadata": {},
   "outputs": [
    {
     "name": "stdout",
     "output_type": "stream",
     "text": [
      "Epoch 1/50\n"
     ]
    },
    {
     "name": "stdout",
     "output_type": "stream",
     "text": [
      "\u001b[1m18/18\u001b[0m \u001b[32m━━━━━━━━━━━━━━━━━━━━\u001b[0m\u001b[37m\u001b[0m \u001b[1m15s\u001b[0m 131ms/step - loss: 1.1301 - val_loss: 1.0026\n",
      "Epoch 2/50\n",
      "\u001b[1m18/18\u001b[0m \u001b[32m━━━━━━━━━━━━━━━━━━━━\u001b[0m\u001b[37m\u001b[0m \u001b[1m15s\u001b[0m 131ms/step - loss: 1.1301 - val_loss: 1.0026\n",
      "Epoch 2/50\n",
      "\u001b[1m18/18\u001b[0m \u001b[32m━━━━━━━━━━━━━━━━━━━━\u001b[0m\u001b[37m\u001b[0m \u001b[1m1s\u001b[0m 52ms/step - loss: 1.1284 - val_loss: 1.0028\n",
      "Epoch 3/50\n",
      "\u001b[1m18/18\u001b[0m \u001b[32m━━━━━━━━━━━━━━━━━━━━\u001b[0m\u001b[37m\u001b[0m \u001b[1m1s\u001b[0m 52ms/step - loss: 1.1284 - val_loss: 1.0028\n",
      "Epoch 3/50\n",
      "\u001b[1m18/18\u001b[0m \u001b[32m━━━━━━━━━━━━━━━━━━━━\u001b[0m\u001b[37m\u001b[0m \u001b[1m1s\u001b[0m 53ms/step - loss: 1.1272 - val_loss: 1.0028\n",
      "Epoch 4/50\n",
      "\u001b[1m18/18\u001b[0m \u001b[32m━━━━━━━━━━━━━━━━━━━━\u001b[0m\u001b[37m\u001b[0m \u001b[1m1s\u001b[0m 53ms/step - loss: 1.1272 - val_loss: 1.0028\n",
      "Epoch 4/50\n",
      "\u001b[1m18/18\u001b[0m \u001b[32m━━━━━━━━━━━━━━━━━━━━\u001b[0m\u001b[37m\u001b[0m \u001b[1m1s\u001b[0m 52ms/step - loss: 1.1283 - val_loss: 1.0035\n",
      "Epoch 5/50\n",
      "\u001b[1m18/18\u001b[0m \u001b[32m━━━━━━━━━━━━━━━━━━━━\u001b[0m\u001b[37m\u001b[0m \u001b[1m1s\u001b[0m 52ms/step - loss: 1.1283 - val_loss: 1.0035\n",
      "Epoch 5/50\n",
      "\u001b[1m18/18\u001b[0m \u001b[32m━━━━━━━━━━━━━━━━━━━━\u001b[0m\u001b[37m\u001b[0m \u001b[1m1s\u001b[0m 55ms/step - loss: 1.1288 - val_loss: 1.0030\n",
      "Epoch 6/50\n",
      "\u001b[1m18/18\u001b[0m \u001b[32m━━━━━━━━━━━━━━━━━━━━\u001b[0m\u001b[37m\u001b[0m \u001b[1m1s\u001b[0m 55ms/step - loss: 1.1288 - val_loss: 1.0030\n",
      "Epoch 6/50\n",
      "\u001b[1m18/18\u001b[0m \u001b[32m━━━━━━━━━━━━━━━━━━━━\u001b[0m\u001b[37m\u001b[0m \u001b[1m1s\u001b[0m 52ms/step - loss: 1.1277 - val_loss: 1.0032\n",
      "Epoch 7/50\n",
      "\u001b[1m18/18\u001b[0m \u001b[32m━━━━━━━━━━━━━━━━━━━━\u001b[0m\u001b[37m\u001b[0m \u001b[1m1s\u001b[0m 52ms/step - loss: 1.1277 - val_loss: 1.0032\n",
      "Epoch 7/50\n",
      "\u001b[1m18/18\u001b[0m \u001b[32m━━━━━━━━━━━━━━━━━━━━\u001b[0m\u001b[37m\u001b[0m \u001b[1m1s\u001b[0m 52ms/step - loss: 1.1277 - val_loss: 1.0033\n",
      "Epoch 8/50\n",
      "\u001b[1m18/18\u001b[0m \u001b[32m━━━━━━━━━━━━━━━━━━━━\u001b[0m\u001b[37m\u001b[0m \u001b[1m1s\u001b[0m 52ms/step - loss: 1.1277 - val_loss: 1.0033\n",
      "Epoch 8/50\n",
      "\u001b[1m18/18\u001b[0m \u001b[32m━━━━━━━━━━━━━━━━━━━━\u001b[0m\u001b[37m\u001b[0m \u001b[1m1s\u001b[0m 53ms/step - loss: 1.1273 - val_loss: 1.0034\n",
      "Epoch 9/50\n",
      "\u001b[1m18/18\u001b[0m \u001b[32m━━━━━━━━━━━━━━━━━━━━\u001b[0m\u001b[37m\u001b[0m \u001b[1m1s\u001b[0m 53ms/step - loss: 1.1273 - val_loss: 1.0034\n",
      "Epoch 9/50\n",
      "\u001b[1m18/18\u001b[0m \u001b[32m━━━━━━━━━━━━━━━━━━━━\u001b[0m\u001b[37m\u001b[0m \u001b[1m1s\u001b[0m 50ms/step - loss: 1.1275 - val_loss: 1.0030\n",
      "Epoch 10/50\n",
      "\u001b[1m18/18\u001b[0m \u001b[32m━━━━━━━━━━━━━━━━━━━━\u001b[0m\u001b[37m\u001b[0m \u001b[1m1s\u001b[0m 50ms/step - loss: 1.1275 - val_loss: 1.0030\n",
      "Epoch 10/50\n",
      "\u001b[1m18/18\u001b[0m \u001b[32m━━━━━━━━━━━━━━━━━━━━\u001b[0m\u001b[37m\u001b[0m \u001b[1m1s\u001b[0m 59ms/step - loss: 1.1290 - val_loss: 1.0038\n",
      "Epoch 11/50\n",
      "\u001b[1m18/18\u001b[0m \u001b[32m━━━━━━━━━━━━━━━━━━━━\u001b[0m\u001b[37m\u001b[0m \u001b[1m1s\u001b[0m 59ms/step - loss: 1.1290 - val_loss: 1.0038\n",
      "Epoch 11/50\n",
      "\u001b[1m18/18\u001b[0m \u001b[32m━━━━━━━━━━━━━━━━━━━━\u001b[0m\u001b[37m\u001b[0m \u001b[1m1s\u001b[0m 57ms/step - loss: 1.1272 - val_loss: 1.0034\n",
      "Epoch 12/50\n",
      "\u001b[1m18/18\u001b[0m \u001b[32m━━━━━━━━━━━━━━━━━━━━\u001b[0m\u001b[37m\u001b[0m \u001b[1m1s\u001b[0m 57ms/step - loss: 1.1272 - val_loss: 1.0034\n",
      "Epoch 12/50\n",
      "\u001b[1m18/18\u001b[0m \u001b[32m━━━━━━━━━━━━━━━━━━━━\u001b[0m\u001b[37m\u001b[0m \u001b[1m1s\u001b[0m 55ms/step - loss: 1.1287 - val_loss: 1.0025\n",
      "Epoch 13/50\n",
      "\u001b[1m18/18\u001b[0m \u001b[32m━━━━━━━━━━━━━━━━━━━━\u001b[0m\u001b[37m\u001b[0m \u001b[1m1s\u001b[0m 55ms/step - loss: 1.1287 - val_loss: 1.0025\n",
      "Epoch 13/50\n",
      "\u001b[1m18/18\u001b[0m \u001b[32m━━━━━━━━━━━━━━━━━━━━\u001b[0m\u001b[37m\u001b[0m \u001b[1m1s\u001b[0m 53ms/step - loss: 1.1255 - val_loss: 1.0016\n",
      "Epoch 14/50\n",
      "\u001b[1m18/18\u001b[0m \u001b[32m━━━━━━━━━━━━━━━━━━━━\u001b[0m\u001b[37m\u001b[0m \u001b[1m1s\u001b[0m 53ms/step - loss: 1.1255 - val_loss: 1.0016\n",
      "Epoch 14/50\n",
      "\u001b[1m18/18\u001b[0m \u001b[32m━━━━━━━━━━━━━━━━━━━━\u001b[0m\u001b[37m\u001b[0m \u001b[1m1s\u001b[0m 54ms/step - loss: 1.1269 - val_loss: 0.9955\n",
      "Epoch 15/50\n",
      "\u001b[1m18/18\u001b[0m \u001b[32m━━━━━━━━━━━━━━━━━━━━\u001b[0m\u001b[37m\u001b[0m \u001b[1m1s\u001b[0m 54ms/step - loss: 1.1269 - val_loss: 0.9955\n",
      "Epoch 15/50\n",
      "\u001b[1m18/18\u001b[0m \u001b[32m━━━━━━━━━━━━━━━━━━━━\u001b[0m\u001b[37m\u001b[0m \u001b[1m1s\u001b[0m 55ms/step - loss: 1.1180 - val_loss: 0.9582\n",
      "Epoch 16/50\n",
      "\u001b[1m18/18\u001b[0m \u001b[32m━━━━━━━━━━━━━━━━━━━━\u001b[0m\u001b[37m\u001b[0m \u001b[1m1s\u001b[0m 55ms/step - loss: 1.1180 - val_loss: 0.9582\n",
      "Epoch 16/50\n",
      "\u001b[1m18/18\u001b[0m \u001b[32m━━━━━━━━━━━━━━━━━━━━\u001b[0m\u001b[37m\u001b[0m \u001b[1m1s\u001b[0m 51ms/step - loss: 1.0551 - val_loss: 0.8483\n",
      "Epoch 17/50\n",
      "\u001b[1m18/18\u001b[0m \u001b[32m━━━━━━━━━━━━━━━━━━━━\u001b[0m\u001b[37m\u001b[0m \u001b[1m1s\u001b[0m 51ms/step - loss: 1.0551 - val_loss: 0.8483\n",
      "Epoch 17/50\n",
      "\u001b[1m18/18\u001b[0m \u001b[32m━━━━━━━━━━━━━━━━━━━━\u001b[0m\u001b[37m\u001b[0m \u001b[1m1s\u001b[0m 53ms/step - loss: 0.9611 - val_loss: 0.8162\n",
      "Epoch 18/50\n",
      "\u001b[1m18/18\u001b[0m \u001b[32m━━━━━━━━━━━━━━━━━━━━\u001b[0m\u001b[37m\u001b[0m \u001b[1m1s\u001b[0m 53ms/step - loss: 0.9611 - val_loss: 0.8162\n",
      "Epoch 18/50\n",
      "\u001b[1m18/18\u001b[0m \u001b[32m━━━━━━━━━━━━━━━━━━━━\u001b[0m\u001b[37m\u001b[0m \u001b[1m1s\u001b[0m 57ms/step - loss: 0.9065 - val_loss: 0.7597\n",
      "Epoch 19/50\n",
      "\u001b[1m18/18\u001b[0m \u001b[32m━━━━━━━━━━━━━━━━━━━━\u001b[0m\u001b[37m\u001b[0m \u001b[1m1s\u001b[0m 57ms/step - loss: 0.9065 - val_loss: 0.7597\n",
      "Epoch 19/50\n",
      "\u001b[1m18/18\u001b[0m \u001b[32m━━━━━━━━━━━━━━━━━━━━\u001b[0m\u001b[37m\u001b[0m \u001b[1m1s\u001b[0m 54ms/step - loss: 0.8190 - val_loss: 0.7366\n",
      "Epoch 20/50\n",
      "\u001b[1m18/18\u001b[0m \u001b[32m━━━━━━━━━━━━━━━━━━━━\u001b[0m\u001b[37m\u001b[0m \u001b[1m1s\u001b[0m 54ms/step - loss: 0.8190 - val_loss: 0.7366\n",
      "Epoch 20/50\n",
      "\u001b[1m18/18\u001b[0m \u001b[32m━━━━━━━━━━━━━━━━━━━━\u001b[0m\u001b[37m\u001b[0m \u001b[1m1s\u001b[0m 53ms/step - loss: 0.8156 - val_loss: 0.7159\n",
      "Epoch 21/50\n",
      "\u001b[1m18/18\u001b[0m \u001b[32m━━━━━━━━━━━━━━━━━━━━\u001b[0m\u001b[37m\u001b[0m \u001b[1m1s\u001b[0m 53ms/step - loss: 0.8156 - val_loss: 0.7159\n",
      "Epoch 21/50\n",
      "\u001b[1m18/18\u001b[0m \u001b[32m━━━━━━━━━━━━━━━━━━━━\u001b[0m\u001b[37m\u001b[0m \u001b[1m1s\u001b[0m 51ms/step - loss: 0.8075 - val_loss: 0.7244\n",
      "Epoch 22/50\n",
      "\u001b[1m18/18\u001b[0m \u001b[32m━━━━━━━━━━━━━━━━━━━━\u001b[0m\u001b[37m\u001b[0m \u001b[1m1s\u001b[0m 51ms/step - loss: 0.8075 - val_loss: 0.7244\n",
      "Epoch 22/50\n",
      "\u001b[1m18/18\u001b[0m \u001b[32m━━━━━━━━━━━━━━━━━━━━\u001b[0m\u001b[37m\u001b[0m \u001b[1m1s\u001b[0m 50ms/step - loss: 0.7990 - val_loss: 0.7265\n",
      "Epoch 23/50\n",
      "\u001b[1m18/18\u001b[0m \u001b[32m━━━━━━━━━━━━━━━━━━━━\u001b[0m\u001b[37m\u001b[0m \u001b[1m1s\u001b[0m 50ms/step - loss: 0.7990 - val_loss: 0.7265\n",
      "Epoch 23/50\n",
      "\u001b[1m18/18\u001b[0m \u001b[32m━━━━━━━━━━━━━━━━━━━━\u001b[0m\u001b[37m\u001b[0m \u001b[1m1s\u001b[0m 50ms/step - loss: 0.7991 - val_loss: 0.7202\n",
      "Epoch 24/50\n",
      "\u001b[1m18/18\u001b[0m \u001b[32m━━━━━━━━━━━━━━━━━━━━\u001b[0m\u001b[37m\u001b[0m \u001b[1m1s\u001b[0m 50ms/step - loss: 0.7991 - val_loss: 0.7202\n",
      "Epoch 24/50\n",
      "\u001b[1m18/18\u001b[0m \u001b[32m━━━━━━━━━━━━━━━━━━━━\u001b[0m\u001b[37m\u001b[0m \u001b[1m1s\u001b[0m 52ms/step - loss: 0.8139 - val_loss: 0.7025\n",
      "Epoch 25/50\n",
      "\u001b[1m18/18\u001b[0m \u001b[32m━━━━━━━━━━━━━━━━━━━━\u001b[0m\u001b[37m\u001b[0m \u001b[1m1s\u001b[0m 52ms/step - loss: 0.8139 - val_loss: 0.7025\n",
      "Epoch 25/50\n",
      "\u001b[1m18/18\u001b[0m \u001b[32m━━━━━━━━━━━━━━━━━━━━\u001b[0m\u001b[37m\u001b[0m \u001b[1m1s\u001b[0m 54ms/step - loss: 0.7957 - val_loss: 0.6892\n",
      "Epoch 26/50\n",
      "\u001b[1m18/18\u001b[0m \u001b[32m━━━━━━━━━━━━━━━━━━━━\u001b[0m\u001b[37m\u001b[0m \u001b[1m1s\u001b[0m 54ms/step - loss: 0.7957 - val_loss: 0.6892\n",
      "Epoch 26/50\n",
      "\u001b[1m18/18\u001b[0m \u001b[32m━━━━━━━━━━━━━━━━━━━━\u001b[0m\u001b[37m\u001b[0m \u001b[1m1s\u001b[0m 54ms/step - loss: 0.7797 - val_loss: 0.6984\n",
      "Epoch 27/50\n",
      "\u001b[1m18/18\u001b[0m \u001b[32m━━━━━━━━━━━━━━━━━━━━\u001b[0m\u001b[37m\u001b[0m \u001b[1m1s\u001b[0m 54ms/step - loss: 0.7797 - val_loss: 0.6984\n",
      "Epoch 27/50\n",
      "\u001b[1m18/18\u001b[0m \u001b[32m━━━━━━━━━━━━━━━━━━━━\u001b[0m\u001b[37m\u001b[0m \u001b[1m1s\u001b[0m 55ms/step - loss: 0.7799 - val_loss: 0.6725\n",
      "Epoch 28/50\n",
      "\u001b[1m18/18\u001b[0m \u001b[32m━━━━━━━━━━━━━━━━━━━━\u001b[0m\u001b[37m\u001b[0m \u001b[1m1s\u001b[0m 55ms/step - loss: 0.7799 - val_loss: 0.6725\n",
      "Epoch 28/50\n",
      "\u001b[1m18/18\u001b[0m \u001b[32m━━━━━━━━━━━━━━━━━━━━\u001b[0m\u001b[37m\u001b[0m \u001b[1m1s\u001b[0m 53ms/step - loss: 0.7553 - val_loss: 0.6713\n",
      "Epoch 29/50\n",
      "\u001b[1m18/18\u001b[0m \u001b[32m━━━━━━━━━━━━━━━━━━━━\u001b[0m\u001b[37m\u001b[0m \u001b[1m1s\u001b[0m 53ms/step - loss: 0.7553 - val_loss: 0.6713\n",
      "Epoch 29/50\n",
      "\u001b[1m18/18\u001b[0m \u001b[32m━━━━━━━━━━━━━━━━━━━━\u001b[0m\u001b[37m\u001b[0m \u001b[1m1s\u001b[0m 54ms/step - loss: 0.7473 - val_loss: 0.6478\n",
      "Epoch 30/50\n",
      "\u001b[1m18/18\u001b[0m \u001b[32m━━━━━━━━━━━━━━━━━━━━\u001b[0m\u001b[37m\u001b[0m \u001b[1m1s\u001b[0m 54ms/step - loss: 0.7473 - val_loss: 0.6478\n",
      "Epoch 30/50\n",
      "\u001b[1m18/18\u001b[0m \u001b[32m━━━━━━━━━━━━━━━━━━━━\u001b[0m\u001b[37m\u001b[0m \u001b[1m1s\u001b[0m 55ms/step - loss: 0.7307 - val_loss: 0.6341\n",
      "Epoch 31/50\n",
      "\u001b[1m18/18\u001b[0m \u001b[32m━━━━━━━━━━━━━━━━━━━━\u001b[0m\u001b[37m\u001b[0m \u001b[1m1s\u001b[0m 55ms/step - loss: 0.7307 - val_loss: 0.6341\n",
      "Epoch 31/50\n",
      "\u001b[1m18/18\u001b[0m \u001b[32m━━━━━━━━━━━━━━━━━━━━\u001b[0m\u001b[37m\u001b[0m \u001b[1m1s\u001b[0m 54ms/step - loss: 0.7072 - val_loss: 0.6393\n",
      "Epoch 32/50\n",
      "\u001b[1m18/18\u001b[0m \u001b[32m━━━━━━━━━━━━━━━━━━━━\u001b[0m\u001b[37m\u001b[0m \u001b[1m1s\u001b[0m 54ms/step - loss: 0.7072 - val_loss: 0.6393\n",
      "Epoch 32/50\n",
      "\u001b[1m18/18\u001b[0m \u001b[32m━━━━━━━━━━━━━━━━━━━━\u001b[0m\u001b[37m\u001b[0m \u001b[1m1s\u001b[0m 57ms/step - loss: 0.7166 - val_loss: 0.6157\n",
      "Epoch 33/50\n",
      "\u001b[1m18/18\u001b[0m \u001b[32m━━━━━━━━━━━━━━━━━━━━\u001b[0m\u001b[37m\u001b[0m \u001b[1m1s\u001b[0m 57ms/step - loss: 0.7166 - val_loss: 0.6157\n",
      "Epoch 33/50\n",
      "\u001b[1m18/18\u001b[0m \u001b[32m━━━━━━━━━━━━━━━━━━━━\u001b[0m\u001b[37m\u001b[0m \u001b[1m1s\u001b[0m 54ms/step - loss: 0.6938 - val_loss: 0.6149\n",
      "Epoch 34/50\n",
      "\u001b[1m18/18\u001b[0m \u001b[32m━━━━━━━━━━━━━━━━━━━━\u001b[0m\u001b[37m\u001b[0m \u001b[1m1s\u001b[0m 54ms/step - loss: 0.6938 - val_loss: 0.6149\n",
      "Epoch 34/50\n",
      "\u001b[1m18/18\u001b[0m \u001b[32m━━━━━━━━━━━━━━━━━━━━\u001b[0m\u001b[37m\u001b[0m \u001b[1m1s\u001b[0m 60ms/step - loss: 0.6716 - val_loss: 0.6128\n",
      "Epoch 35/50\n",
      "\u001b[1m18/18\u001b[0m \u001b[32m━━━━━━━━━━━━━━━━━━━━\u001b[0m\u001b[37m\u001b[0m \u001b[1m1s\u001b[0m 60ms/step - loss: 0.6716 - val_loss: 0.6128\n",
      "Epoch 35/50\n",
      "\u001b[1m18/18\u001b[0m \u001b[32m━━━━━━━━━━━━━━━━━━━━\u001b[0m\u001b[37m\u001b[0m \u001b[1m1s\u001b[0m 57ms/step - loss: 0.6620 - val_loss: 0.6019\n",
      "Epoch 36/50\n",
      "\u001b[1m18/18\u001b[0m \u001b[32m━━━━━━━━━━━━━━━━━━━━\u001b[0m\u001b[37m\u001b[0m \u001b[1m1s\u001b[0m 57ms/step - loss: 0.6620 - val_loss: 0.6019\n",
      "Epoch 36/50\n",
      "\u001b[1m18/18\u001b[0m \u001b[32m━━━━━━━━━━━━━━━━━━━━\u001b[0m\u001b[37m\u001b[0m \u001b[1m1s\u001b[0m 53ms/step - loss: 0.6551 - val_loss: 0.6035\n",
      "Epoch 37/50\n",
      "\u001b[1m18/18\u001b[0m \u001b[32m━━━━━━━━━━━━━━━━━━━━\u001b[0m\u001b[37m\u001b[0m \u001b[1m1s\u001b[0m 53ms/step - loss: 0.6551 - val_loss: 0.6035\n",
      "Epoch 37/50\n",
      "\u001b[1m18/18\u001b[0m \u001b[32m━━━━━━━━━━━━━━━━━━━━\u001b[0m\u001b[37m\u001b[0m \u001b[1m1s\u001b[0m 50ms/step - loss: 0.6331 - val_loss: 0.5913\n",
      "Epoch 38/50\n",
      "\u001b[1m18/18\u001b[0m \u001b[32m━━━━━━━━━━━━━━━━━━━━\u001b[0m\u001b[37m\u001b[0m \u001b[1m1s\u001b[0m 50ms/step - loss: 0.6331 - val_loss: 0.5913\n",
      "Epoch 38/50\n",
      "\u001b[1m18/18\u001b[0m \u001b[32m━━━━━━━━━━━━━━━━━━━━\u001b[0m\u001b[37m\u001b[0m \u001b[1m1s\u001b[0m 50ms/step - loss: 0.6409 - val_loss: 0.5732\n",
      "Epoch 39/50\n",
      "\u001b[1m18/18\u001b[0m \u001b[32m━━━━━━━━━━━━━━━━━━━━\u001b[0m\u001b[37m\u001b[0m \u001b[1m1s\u001b[0m 50ms/step - loss: 0.6409 - val_loss: 0.5732\n",
      "Epoch 39/50\n",
      "\u001b[1m18/18\u001b[0m \u001b[32m━━━━━━━━━━━━━━━━━━━━\u001b[0m\u001b[37m\u001b[0m \u001b[1m1s\u001b[0m 55ms/step - loss: 0.6256 - val_loss: 0.5732\n",
      "Epoch 40/50\n",
      "\u001b[1m18/18\u001b[0m \u001b[32m━━━━━━━━━━━━━━━━━━━━\u001b[0m\u001b[37m\u001b[0m \u001b[1m1s\u001b[0m 55ms/step - loss: 0.6256 - val_loss: 0.5732\n",
      "Epoch 40/50\n",
      "\u001b[1m18/18\u001b[0m \u001b[32m━━━━━━━━━━━━━━━━━━━━\u001b[0m\u001b[37m\u001b[0m \u001b[1m1s\u001b[0m 57ms/step - loss: 0.6086 - val_loss: 0.5533\n",
      "Epoch 41/50\n",
      "\u001b[1m18/18\u001b[0m \u001b[32m━━━━━━━━━━━━━━━━━━━━\u001b[0m\u001b[37m\u001b[0m \u001b[1m1s\u001b[0m 57ms/step - loss: 0.6086 - val_loss: 0.5533\n",
      "Epoch 41/50\n",
      "\u001b[1m18/18\u001b[0m \u001b[32m━━━━━━━━━━━━━━━━━━━━\u001b[0m\u001b[37m\u001b[0m \u001b[1m1s\u001b[0m 54ms/step - loss: 0.6024 - val_loss: 0.5643\n",
      "Epoch 42/50\n",
      "\u001b[1m18/18\u001b[0m \u001b[32m━━━━━━━━━━━━━━━━━━━━\u001b[0m\u001b[37m\u001b[0m \u001b[1m1s\u001b[0m 54ms/step - loss: 0.6024 - val_loss: 0.5643\n",
      "Epoch 42/50\n",
      "\u001b[1m18/18\u001b[0m \u001b[32m━━━━━━━━━━━━━━━━━━━━\u001b[0m\u001b[37m\u001b[0m \u001b[1m1s\u001b[0m 58ms/step - loss: 0.6019 - val_loss: 0.5488\n",
      "Epoch 43/50\n",
      "\u001b[1m18/18\u001b[0m \u001b[32m━━━━━━━━━━━━━━━━━━━━\u001b[0m\u001b[37m\u001b[0m \u001b[1m1s\u001b[0m 58ms/step - loss: 0.6019 - val_loss: 0.5488\n",
      "Epoch 43/50\n",
      "\u001b[1m18/18\u001b[0m \u001b[32m━━━━━━━━━━━━━━━━━━━━\u001b[0m\u001b[37m\u001b[0m \u001b[1m1s\u001b[0m 57ms/step - loss: 0.5800 - val_loss: 0.5364\n",
      "Epoch 44/50\n",
      "\u001b[1m18/18\u001b[0m \u001b[32m━━━━━━━━━━━━━━━━━━━━\u001b[0m\u001b[37m\u001b[0m \u001b[1m1s\u001b[0m 57ms/step - loss: 0.5800 - val_loss: 0.5364\n",
      "Epoch 44/50\n",
      "\u001b[1m18/18\u001b[0m \u001b[32m━━━━━━━━━━━━━━━━━━━━\u001b[0m\u001b[37m\u001b[0m \u001b[1m1s\u001b[0m 57ms/step - loss: 0.6024 - val_loss: 0.5545\n",
      "Epoch 45/50\n",
      "\u001b[1m18/18\u001b[0m \u001b[32m━━━━━━━━━━━━━━━━━━━━\u001b[0m\u001b[37m\u001b[0m \u001b[1m1s\u001b[0m 57ms/step - loss: 0.6024 - val_loss: 0.5545\n",
      "Epoch 45/50\n",
      "\u001b[1m18/18\u001b[0m \u001b[32m━━━━━━━━━━━━━━━━━━━━\u001b[0m\u001b[37m\u001b[0m \u001b[1m1s\u001b[0m 58ms/step - loss: 0.5844 - val_loss: 0.5295\n",
      "Epoch 46/50\n",
      "\u001b[1m18/18\u001b[0m \u001b[32m━━━━━━━━━━━━━━━━━━━━\u001b[0m\u001b[37m\u001b[0m \u001b[1m1s\u001b[0m 58ms/step - loss: 0.5844 - val_loss: 0.5295\n",
      "Epoch 46/50\n",
      "\u001b[1m18/18\u001b[0m \u001b[32m━━━━━━━━━━━━━━━━━━━━\u001b[0m\u001b[37m\u001b[0m \u001b[1m1s\u001b[0m 59ms/step - loss: 0.5556 - val_loss: 0.5242\n",
      "Epoch 47/50\n",
      "\u001b[1m18/18\u001b[0m \u001b[32m━━━━━━━━━━━━━━━━━━━━\u001b[0m\u001b[37m\u001b[0m \u001b[1m1s\u001b[0m 59ms/step - loss: 0.5556 - val_loss: 0.5242\n",
      "Epoch 47/50\n",
      "\u001b[1m18/18\u001b[0m \u001b[32m━━━━━━━━━━━━━━━━━━━━\u001b[0m\u001b[37m\u001b[0m \u001b[1m1s\u001b[0m 57ms/step - loss: 0.5547 - val_loss: 0.5205\n",
      "Epoch 48/50\n",
      "\u001b[1m18/18\u001b[0m \u001b[32m━━━━━━━━━━━━━━━━━━━━\u001b[0m\u001b[37m\u001b[0m \u001b[1m1s\u001b[0m 57ms/step - loss: 0.5547 - val_loss: 0.5205\n",
      "Epoch 48/50\n",
      "\u001b[1m18/18\u001b[0m \u001b[32m━━━━━━━━━━━━━━━━━━━━\u001b[0m\u001b[37m\u001b[0m \u001b[1m1s\u001b[0m 56ms/step - loss: 0.5565 - val_loss: 0.5413\n",
      "Epoch 49/50\n",
      "\u001b[1m18/18\u001b[0m \u001b[32m━━━━━━━━━━━━━━━━━━━━\u001b[0m\u001b[37m\u001b[0m \u001b[1m1s\u001b[0m 56ms/step - loss: 0.5565 - val_loss: 0.5413\n",
      "Epoch 49/50\n",
      "\u001b[1m18/18\u001b[0m \u001b[32m━━━━━━━━━━━━━━━━━━━━\u001b[0m\u001b[37m\u001b[0m \u001b[1m1s\u001b[0m 54ms/step - loss: 0.5305 - val_loss: 0.5306\n",
      "Epoch 50/50\n",
      "\u001b[1m18/18\u001b[0m \u001b[32m━━━━━━━━━━━━━━━━━━━━\u001b[0m\u001b[37m\u001b[0m \u001b[1m1s\u001b[0m 54ms/step - loss: 0.5305 - val_loss: 0.5306\n",
      "Epoch 50/50\n",
      "\u001b[1m18/18\u001b[0m \u001b[32m━━━━━━━━━━━━━━━━━━━━\u001b[0m\u001b[37m\u001b[0m \u001b[1m1s\u001b[0m 54ms/step - loss: 0.5426 - val_loss: 0.5043\n",
      "\u001b[1m18/18\u001b[0m \u001b[32m━━━━━━━━━━━━━━━━━━━━\u001b[0m\u001b[37m\u001b[0m \u001b[1m1s\u001b[0m 54ms/step - loss: 0.5426 - val_loss: 0.5043\n",
      "Model saved to data\\CPALL_vae_model\n",
      "Model saved to data\\CPALL_vae_model\n"
     ]
    },
    {
     "data": {
      "image/png": "[encoded data removed]",
      "text/plain": [
       "<Figure size 1200x500 with 1 Axes>"
      ]
     },
     "metadata": {},
     "output_type": "display_data"
    }
   ],
   "source": [
    "# Train the model\n",
    "history = vae.fit(\n",
    "    X_train, \n",
    "    epochs=50, \n",
    "    batch_size=32, \n",
    "    validation_data=(X_val, None),\n",
    "    verbose=1\n",
    ")\n",
    "\n",
    "# Save the trained model\n",
    "vae.save(local_data_dir / f\"{symbol}_vae_model.keras\")\n",
    "print(f\"Model saved to {local_data_dir / f'{symbol}_vae_model'}\")\n",
    "\n",
    "# Plot training history\n",
    "plt.figure(figsize=(12, 5))\n",
    "plt.plot(history.history['loss'], label='Training Loss')\n",
    "plt.title('Model Training Loss')\n",
    "plt.xlabel('Epoch')\n",
    "plt.ylabel('Loss')\n",
    "plt.legend()\n",
    "plt.grid(True)\n",
    "plt.show()"
   ]
  },
  {
   "cell_type": "markdown",
   "id": "13cc365c",
   "metadata": {},
   "source": [
    "## 6. Anomaly Detection on Test Data\n",
    "\n",
    "We evaluate the model on test data to detect anomalous patterns."
   ]
  },
  {
   "cell_type": "code",
   "execution_count": 16,
   "id": "6107379e",
   "metadata": {},
   "outputs": [
    {
     "name": "stdout",
     "output_type": "stream",
     "text": [
      "Test sequences shape: (224, 20, 5)\n"
     ]
    }
   ],
   "source": [
    "# Create sequences from test data\n",
    "X_test_seq = create_sequences(tm_daily_test, seq_len=seq_len)\n",
    "\n",
    "# Standardize test data using the same scaler\n",
    "X_test_seq_scaled = scaler.transform(X_test_seq.reshape(-1, X_test_seq.shape[-1])).reshape(X_test_seq.shape)\n",
    "\n",
    "print(f\"Test sequences shape: {X_test_seq_scaled.shape}\")"
   ]
  },
  {
   "cell_type": "markdown",
   "id": "09531c17",
   "metadata": {},
   "source": [
    "### 6.1 Calculating Reconstruction Loss\n",
    "\n",
    "We calculate reconstruction loss for each test sequence to identify anomalies."
   ]
  },
  {
   "cell_type": "code",
   "execution_count": 17,
   "id": "36256b29",
   "metadata": {},
   "outputs": [
    {
     "name": "stderr",
     "output_type": "stream",
     "text": [
      "Evaluating test sequences: 100%|██████████| 224/224 [00:41<00:00,  5.45it/s]"
     ]
    },
    {
     "name": "stdout",
     "output_type": "stream",
     "text": [
      "Anomaly scores saved to data\\CPALL_anomaly_scores.csv\n",
      "Min loss: 0.0906, Max loss: 8.8611, Mean loss: 0.9310\n"
     ]
    },
    {
     "name": "stderr",
     "output_type": "stream",
     "text": [
      "\n"
     ]
    }
   ],
   "source": [
    "# Calculate reconstruction loss for each test sequence\n",
    "all_loss = []\n",
    "for x_test in tqdm(X_test_seq_scaled, desc=\"Evaluating test sequences\"):\n",
    "    x_test = x_test.reshape(1, x_test.shape[0], x_test.shape[1])  # Reshape for model input\n",
    "    loss = vae.evaluate(x_test, x_test, verbose=0)  # Calculate reconstruction loss\n",
    "    all_loss.append(loss)\n",
    "\n",
    "all_loss = np.array(all_loss)\n",
    "\n",
    "# Save loss values\n",
    "loss_df = pd.DataFrame(all_loss, index=tm_daily_test.index[-len(all_loss):], columns=['loss'])\n",
    "loss_df.to_csv(local_data_dir / f\"{symbol}_anomaly_scores.csv\")\n",
    "print(f\"Anomaly scores saved to {local_data_dir / f'{symbol}_anomaly_scores.csv'}\")\n",
    "\n",
    "print(f\"Min loss: {all_loss.min():.4f}, Max loss: {all_loss.max():.4f}, Mean loss: {all_loss.mean():.4f}\")"
   ]
  },
  {
   "cell_type": "markdown",
   "id": "29218ab7",
   "metadata": {},
   "source": [
    "### 6.2 Visualizing the Distribution of Anomaly Scores\n",
    "\n",
    "We plot the distribution of reconstruction losses to understand what constitutes an anomaly."
   ]
  },
  {
   "cell_type": "code",
   "execution_count": 28,
   "id": "6f642431",
   "metadata": {},
   "outputs": [
    {
     "data": {
      "image/png": "[encoded data removed]",
      "text/plain": [
       "<Figure size 1200x600 with 1 Axes>"
      ]
     },
     "metadata": {},
     "output_type": "display_data"
    }
   ],
   "source": [
    "# Plot histogram of loss values\n",
    "plt.figure(figsize=(12, 6))\n",
    "plt.hist(all_loss, bins=50, alpha=0.7, color='skyblue', edgecolor='black')\n",
    "plt.title('Distribution of Reconstruction Loss (Anomaly Score)', fontsize=15)\n",
    "plt.xlabel('Reconstruction Loss', fontsize=12)\n",
    "plt.ylabel('Frequency', fontsize=12)\n",
    "\n",
    "# Add threshold line for anomaly detection\n",
    "threshold = all_loss.mean() + all_loss.std() * 0.5\n",
    "plt.axvline(x=threshold, color='red', linestyle='--', linewidth=2, \n",
    "            label=f'Anomaly Threshold: {threshold:.3f}')\n",
    "plt.legend()\n",
    "plt.grid(True, alpha=0.3)\n",
    "plt.savefig(local_data_dir / f\"{symbol}_loss_distribution.png\", dpi=300, bbox_inches='tight')\n",
    "plt.show()"
   ]
  },
  {
   "cell_type": "markdown",
   "id": "8a42b842",
   "metadata": {},
   "source": [
    "### 6.3 Preparing Data for Visualization"
   ]
  },
  {
   "cell_type": "code",
   "execution_count": 29,
   "id": "c5e0c9d3",
   "metadata": {},
   "outputs": [
    {
     "name": "stdout",
     "output_type": "stream",
     "text": [
      "Combined data for visualization:\n"
     ]
    },
    {
     "data": {
      "application/vnd.microsoft.datawrangler.viewer.v0+json": {
       "columns": [
        {
         "name": "time",
         "rawType": "datetime64[ns]",
         "type": "datetime"
        },
        {
         "name": "loss",
         "rawType": "float64",
         "type": "float"
        },
        {
         "name": "last",
         "rawType": "float64",
         "type": "float"
        }
       ],
       "conversionMethod": "pd.DataFrame",
       "ref": "023bb88f-0203-4a8f-a747-b44d133cd44b",
       "rows": [
        [
         "2024-06-05 00:00:00",
         "0.2760644853115082",
         "58.5"
        ],
        [
         "2024-06-06 00:00:00",
         "0.13159805536270142",
         "58.0"
        ],
        [
         "2024-06-07 00:00:00",
         "0.24583718180656433",
         "58.0"
        ],
        [
         "2024-06-10 00:00:00",
         "0.3336103558540344",
         "57.5"
        ],
        [
         "2024-06-11 00:00:00",
         "0.32480669021606445",
         "57.0"
        ]
       ],
       "shape": {
        "columns": 2,
        "rows": 5
       }
      },
      "text/html": [
       "<div>\n",
       "<style scoped>\n",
       "    .dataframe tbody tr th:only-of-type {\n",
       "        vertical-align: middle;\n",
       "    }\n",
       "\n",
       "    .dataframe tbody tr th {\n",
       "        vertical-align: top;\n",
       "    }\n",
       "\n",
       "    .dataframe thead th {\n",
       "        text-align: right;\n",
       "    }\n",
       "</style>\n",
       "<table border=\"1\" class=\"dataframe\">\n",
       "  <thead>\n",
       "    <tr style=\"text-align: right;\">\n",
       "      <th></th>\n",
       "      <th>loss</th>\n",
       "      <th>last</th>\n",
       "    </tr>\n",
       "    <tr>\n",
       "      <th>time</th>\n",
       "      <th></th>\n",
       "      <th></th>\n",
       "    </tr>\n",
       "  </thead>\n",
       "  <tbody>\n",
       "    <tr>\n",
       "      <th>2024-06-05</th>\n",
       "      <td>0.276064</td>\n",
       "      <td>58.5</td>\n",
       "    </tr>\n",
       "    <tr>\n",
       "      <th>2024-06-06</th>\n",
       "      <td>0.131598</td>\n",
       "      <td>58.0</td>\n",
       "    </tr>\n",
       "    <tr>\n",
       "      <th>2024-06-07</th>\n",
       "      <td>0.245837</td>\n",
       "      <td>58.0</td>\n",
       "    </tr>\n",
       "    <tr>\n",
       "      <th>2024-06-10</th>\n",
       "      <td>0.333610</td>\n",
       "      <td>57.5</td>\n",
       "    </tr>\n",
       "    <tr>\n",
       "      <th>2024-06-11</th>\n",
       "      <td>0.324807</td>\n",
       "      <td>57.0</td>\n",
       "    </tr>\n",
       "  </tbody>\n",
       "</table>\n",
       "</div>"
      ],
      "text/plain": [
       "                loss  last\n",
       "time                      \n",
       "2024-06-05  0.276064  58.5\n",
       "2024-06-06  0.131598  58.0\n",
       "2024-06-07  0.245837  58.0\n",
       "2024-06-10  0.333610  57.5\n",
       "2024-06-11  0.324807  57.0"
      ]
     },
     "execution_count": 29,
     "metadata": {},
     "output_type": "execute_result"
    }
   ],
   "source": [
    "# Get the price series for the same period as our anomaly scores\n",
    "last_plot = daily_last.iloc[-len(all_loss):].copy()\n",
    "last_plot.index = pd.to_datetime(last_plot.index)\n",
    "\n",
    "# Create a DataFrame with price and anomaly scores\n",
    "last_loss = pd.DataFrame(all_loss, index=last_plot.index, columns=['loss'])\n",
    "last_loss['last'] = last_plot.values\n",
    "\n",
    "print(\"Combined data for visualization:\")\n",
    "last_loss.head()"
   ]
  },
  {
   "cell_type": "markdown",
   "id": "ac376f81",
   "metadata": {},
   "source": [
    "## 7. Visualization of Results\n",
    "\n",
    "We visualize the anomaly scores alongside the price chart to identify unusual market behavior."
   ]
  },
  {
   "cell_type": "code",
   "execution_count": 30,
   "id": "3ac5581f",
   "metadata": {},
   "outputs": [
    {
     "data": {
      "image/png": "[encoded data removed]",
      "text/plain": [
       "<Figure size 2000x1000 with 2 Axes>"
      ]
     },
     "metadata": {},
     "output_type": "display_data"
    }
   ],
   "source": [
    "# Define anomaly threshold\n",
    "anomaly_threshold = threshold\n",
    "# Create the visualization\n",
    "fig = plt.figure(figsize=(20, 10))\n",
    "ax = fig.add_subplot(111)\n",
    "\n",
    "# Plot loss values\n",
    "ax.plot(last_loss.index, last_loss['loss'], label='Reconstruction Loss', color='blue', ls='--')\n",
    "ax.set_title('VAE Reconstruction Loss and Stock Price', fontsize=16)\n",
    "ax.set_ylabel('Reconstruction Loss', fontsize=14)\n",
    "ax.set_xlabel('Date', fontsize=14)\n",
    "ax.axhline(y=anomaly_threshold, color='purple', linestyle='-', alpha=0.7, \n",
    "           label=f'Anomaly Threshold: {anomaly_threshold:.2f}')\n",
    "\n",
    "# Create second y-axis for price\n",
    "ax2 = ax.twinx()\n",
    "ax2.plot(last_plot, label='Stock Price', color='red')\n",
    "ax2.set_ylabel('Price (THB)', fontsize=14)\n",
    "\n",
    "# Highlight anomalies\n",
    "ax2.fill_between(\n",
    "    last_loss.index,\n",
    "    last_loss['last'].min(), \n",
    "    last_loss['last'], \n",
    "    alpha=0.5, \n",
    "    color='red', \n",
    "    where=last_loss['loss'] > anomaly_threshold, \n",
    "    label='Anomaly'\n",
    ")\n",
    "\n",
    "# Create a combined legend for both axes\n",
    "lines1, labels1 = ax.get_legend_handles_labels()\n",
    "lines2, labels2 = ax2.get_legend_handles_labels()\n",
    "ax.legend(lines1 + lines2, labels1 + labels2, loc='best', fontsize=12)\n",
    "\n",
    "# Format the grid\n",
    "ax.grid(True, alpha=0.3)\n",
    "plt.tight_layout()\n",
    "\n",
    "# Save the visualization\n",
    "plt.savefig(local_data_dir / f\"{symbol}_anomaly_detection.png\", dpi=300, bbox_inches='tight')\n",
    "plt.show()"
   ]
  },
  {
   "cell_type": "markdown",
   "id": "13fb65f2",
   "metadata": {},
   "source": [
    "## 8. Quantitative Analysis of Anomalies\n",
    "\n",
    "We analyze the detected anomalies and their relationship with price movements."
   ]
  },
  {
   "cell_type": "code",
   "execution_count": 31,
   "id": "c83830eb",
   "metadata": {},
   "outputs": [
    {
     "name": "stdout",
     "output_type": "stream",
     "text": [
      "Detected 30 anomalies out of 224 trading days (13.4%)\n",
      "\n",
      "Price change statistics:\n",
      "Normal days volatility: 1.26%\n",
      "Anomaly days volatility: 4.02%\n",
      "Ratio: 3.19x higher during anomalies\n",
      "\n",
      "Top 10 anomalies by reconstruction loss:\n"
     ]
    },
    {
     "data": {
      "application/vnd.microsoft.datawrangler.viewer.v0+json": {
       "columns": [
        {
         "name": "time",
         "rawType": "datetime64[ns]",
         "type": "datetime"
        },
        {
         "name": "loss",
         "rawType": "float64",
         "type": "float"
        },
        {
         "name": "last",
         "rawType": "float64",
         "type": "float"
        },
        {
         "name": "price_change",
         "rawType": "float64",
         "type": "float"
        }
       ],
       "conversionMethod": "pd.DataFrame",
       "ref": "c36ed50f-f489-4e1c-b285-4c22e852a20c",
       "rows": [
        [
         "2025-01-31 00:00:00",
         "8.86105728149414",
         "52.0",
         "-7.964601769911505"
        ],
        [
         "2025-02-06 00:00:00",
         "7.874823570251465",
         "47.5",
         "-5.000000000000004"
        ],
        [
         "2025-02-27 00:00:00",
         "6.3950371742248535",
         "52.25",
         "-3.686635944700456"
        ],
        [
         "2025-02-28 00:00:00",
         "6.326099395751953",
         "54.0",
         "3.349282296650724"
        ],
        [
         "2024-12-17 00:00:00",
         "5.981553077697754",
         "56.25",
         "-4.6610169491525415"
        ],
        [
         "2024-08-14 00:00:00",
         "4.182382583618164",
         "55.25",
         "-4.741379310344829"
        ],
        [
         "2025-02-26 00:00:00",
         "3.467456579208374",
         "54.25",
         "10.152284263959398"
        ],
        [
         "2025-04-08 00:00:00",
         "3.3170270919799805",
         "47.75",
         "-4.020100502512558"
        ],
        [
         "2025-02-07 00:00:00",
         "3.1523098945617676",
         "50.0",
         "5.263157894736836"
        ],
        [
         "2024-08-20 00:00:00",
         "3.116955280303955",
         "59.0",
         "3.5087719298245723"
        ]
       ],
       "shape": {
        "columns": 3,
        "rows": 10
       }
      },
      "text/html": [
       "<div>\n",
       "<style scoped>\n",
       "    .dataframe tbody tr th:only-of-type {\n",
       "        vertical-align: middle;\n",
       "    }\n",
       "\n",
       "    .dataframe tbody tr th {\n",
       "        vertical-align: top;\n",
       "    }\n",
       "\n",
       "    .dataframe thead th {\n",
       "        text-align: right;\n",
       "    }\n",
       "</style>\n",
       "<table border=\"1\" class=\"dataframe\">\n",
       "  <thead>\n",
       "    <tr style=\"text-align: right;\">\n",
       "      <th></th>\n",
       "      <th>loss</th>\n",
       "      <th>last</th>\n",
       "      <th>price_change</th>\n",
       "    </tr>\n",
       "    <tr>\n",
       "      <th>time</th>\n",
       "      <th></th>\n",
       "      <th></th>\n",
       "      <th></th>\n",
       "    </tr>\n",
       "  </thead>\n",
       "  <tbody>\n",
       "    <tr>\n",
       "      <th>2025-01-31</th>\n",
       "      <td>8.861057</td>\n",
       "      <td>52.00</td>\n",
       "      <td>-7.964602</td>\n",
       "    </tr>\n",
       "    <tr>\n",
       "      <th>2025-02-06</th>\n",
       "      <td>7.874824</td>\n",
       "      <td>47.50</td>\n",
       "      <td>-5.000000</td>\n",
       "    </tr>\n",
       "    <tr>\n",
       "      <th>2025-02-27</th>\n",
       "      <td>6.395037</td>\n",
       "      <td>52.25</td>\n",
       "      <td>-3.686636</td>\n",
       "    </tr>\n",
       "    <tr>\n",
       "      <th>2025-02-28</th>\n",
       "      <td>6.326099</td>\n",
       "      <td>54.00</td>\n",
       "      <td>3.349282</td>\n",
       "    </tr>\n",
       "    <tr>\n",
       "      <th>2024-12-17</th>\n",
       "      <td>5.981553</td>\n",
       "      <td>56.25</td>\n",
       "      <td>-4.661017</td>\n",
       "    </tr>\n",
       "    <tr>\n",
       "      <th>2024-08-14</th>\n",
       "      <td>4.182383</td>\n",
       "      <td>55.25</td>\n",
       "      <td>-4.741379</td>\n",
       "    </tr>\n",
       "    <tr>\n",
       "      <th>2025-02-26</th>\n",
       "      <td>3.467457</td>\n",
       "      <td>54.25</td>\n",
       "      <td>10.152284</td>\n",
       "    </tr>\n",
       "    <tr>\n",
       "      <th>2025-04-08</th>\n",
       "      <td>3.317027</td>\n",
       "      <td>47.75</td>\n",
       "      <td>-4.020101</td>\n",
       "    </tr>\n",
       "    <tr>\n",
       "      <th>2025-02-07</th>\n",
       "      <td>3.152310</td>\n",
       "      <td>50.00</td>\n",
       "      <td>5.263158</td>\n",
       "    </tr>\n",
       "    <tr>\n",
       "      <th>2024-08-20</th>\n",
       "      <td>3.116955</td>\n",
       "      <td>59.00</td>\n",
       "      <td>3.508772</td>\n",
       "    </tr>\n",
       "  </tbody>\n",
       "</table>\n",
       "</div>"
      ],
      "text/plain": [
       "                loss   last  price_change\n",
       "time                                     \n",
       "2025-01-31  8.861057  52.00     -7.964602\n",
       "2025-02-06  7.874824  47.50     -5.000000\n",
       "2025-02-27  6.395037  52.25     -3.686636\n",
       "2025-02-28  6.326099  54.00      3.349282\n",
       "2024-12-17  5.981553  56.25     -4.661017\n",
       "2024-08-14  4.182383  55.25     -4.741379\n",
       "2025-02-26  3.467457  54.25     10.152284\n",
       "2025-04-08  3.317027  47.75     -4.020101\n",
       "2025-02-07  3.152310  50.00      5.263158\n",
       "2024-08-20  3.116955  59.00      3.508772"
      ]
     },
     "execution_count": 31,
     "metadata": {},
     "output_type": "execute_result"
    }
   ],
   "source": [
    "# Identify anomalies based on threshold\n",
    "last_loss['price_change'] = last_loss['last'].pct_change() * 100\n",
    "anomalies = last_loss[last_loss['loss'] > anomaly_threshold].copy()\n",
    "print(f\"Detected {len(anomalies)} anomalies out of {len(last_loss)} trading days ({len(anomalies)/len(last_loss):.1%})\")\n",
    "\n",
    "\n",
    "# Compare price volatility\n",
    "normal_volatility = last_loss[last_loss['loss'] <= anomaly_threshold]['price_change'].std()\n",
    "anomaly_volatility = anomalies['price_change'].std()\n",
    "\n",
    "print(f\"\\nPrice change statistics:\")\n",
    "print(f\"Normal days volatility: {normal_volatility:.2f}%\")\n",
    "print(f\"Anomaly days volatility: {anomaly_volatility:.2f}%\")\n",
    "print(f\"Ratio: {anomaly_volatility/normal_volatility:.2f}x higher during anomalies\")\n",
    "\n",
    "# Show the top 10 anomalies\n",
    "print(\"\\nTop 10 anomalies by reconstruction loss:\")\n",
    "top_anomalies = last_loss.sort_values('loss', ascending=False).head(10)\n",
    "top_anomalies[['loss', 'last', 'price_change']]"
   ]
  },
  {
   "cell_type": "markdown",
   "id": "fa117bf7",
   "metadata": {},
   "source": [
    "## 9. Conclusion and Future Work\n",
    "\n",
    "Our LSTM-VAE model has successfully identified anomalous trading patterns in CPALL stock data. The anomaly detection system shows potential for identifying unusual market behavior that might indicate significant market events or information asymmetry.\n",
    "\n",
    "### Key Findings:\n",
    "\n",
    "1. The model effectively identifies days with abnormal trading patterns based on volume and price features\n",
    "2. Anomalous trading days often coincide with higher price volatility\n",
    "3. The VAE reconstruction loss provides a continuous measure of abnormality, allowing for threshold adjustment\n",
    "\n",
    "### Future Work:\n",
    "\n",
    "1. Incorporate additional features such as market indices and sector performance\n",
    "2. Test the model on different time frames (hourly, weekly) for multi-scale anomaly detection\n",
    "3. Develop an early warning system by predicting future anomalies\n",
    "4. Optimize hyperparameters for improved anomaly detection accuracy"
   ]
  }
 ],
 "metadata": {
  "kernelspec": {
   "display_name": ".venv",
   "language": "python",
   "name": "python3"
  },
  "language_info": {
   "codemirror_mode": {
    "name": "ipython",
    "version": 3
   },
   "file_extension": ".py",
   "mimetype": "text/x-python",
   "name": "python",
   "nbconvert_exporter": "python",
   "pygments_lexer": "ipython3",
   "version": "3.12.2"
  }
 },
 "nbformat": 4,
 "nbformat_minor": 5
}
